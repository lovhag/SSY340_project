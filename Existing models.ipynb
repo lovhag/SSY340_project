{
 "cells": [
  {
   "cell_type": "markdown",
   "metadata": {},
   "source": [
    "# Trying existing models"
   ]
  },
  {
   "cell_type": "code",
   "execution_count": 2,
   "metadata": {},
   "outputs": [],
   "source": [
    "# import packages\n",
    "import pandas as pd\n",
    "import numpy as np\n",
    "import matplotlib.pyplot as plt\n",
    "import seaborn as sns\n",
    "from sklearn.feature_extraction.text import CountVectorizer\n",
    "from sklearn.feature_extraction.text import TfidfVectorizer\n",
    "from sklearn.linear_model import LogisticRegression\n",
    "from sklearn.model_selection import train_test_split\n",
    "from sklearn.dummy import DummyClassifier\n",
    "from string import punctuation\n",
    "from sklearn import svm\n",
    "from nltk.corpus import stopwords\n",
    "from nltk.stem import WordNetLemmatizer\n",
    "import nltk\n",
    "#nltk.download('perluniprops')\n",
    "from nltk import ngrams\n",
    "from itertools import chain\n",
    "\n",
    "import pickle"
   ]
  },
  {
   "cell_type": "markdown",
   "metadata": {},
   "source": [
    "## Fetch even data"
   ]
  },
  {
   "cell_type": "code",
   "execution_count": 3,
   "metadata": {},
   "outputs": [
    {
     "name": "stdout",
     "output_type": "stream",
     "text": [
      "Total number of even training data points: 199483\n"
     ]
    }
   ],
   "source": [
    "with open('X_train_even.pickle', 'rb') as handle:\n",
    "    X_train_even = pickle.load(handle)\n",
    "    \n",
    "# with open('X_test_even.pickle', 'rb') as handle:\n",
    "#     X_test_even = pickle.load(handle)\n",
    "    \n",
    "with open('Y_train_even.pickle', 'rb') as handle:\n",
    "    Y_train_even = pickle.load(handle)\n",
    "    \n",
    "# with open('Y_test_even.pickle', 'rb') as handle:\n",
    "#     Y_test_even = pickle.load(handle)\n",
    "\n",
    "print('Total number of even training data points: %d' %len(X_train_even))"
   ]
  },
  {
   "cell_type": "markdown",
   "metadata": {},
   "source": [
    "## Existing model on even data"
   ]
  },
  {
   "cell_type": "markdown",
   "metadata": {},
   "source": [
    "#### Create a smaller data set for testing"
   ]
  },
  {
   "cell_type": "code",
   "execution_count": 4,
   "metadata": {},
   "outputs": [
    {
     "name": "stdout",
     "output_type": "stream",
     "text": [
      "The share of negative reviews:\n",
      "0.4924\n",
      "It is approximately even!\n"
     ]
    }
   ],
   "source": [
    "lesser_number = 10000\n",
    "\n",
    "small_Y = Y_train_even[0:lesser_number]\n",
    "small_X = X_train_even[0:lesser_number]\n",
    "neg_share = len(small_Y[small_Y==1])/lesser_number\n",
    "\n",
    "print('The share of negative reviews:')\n",
    "print(neg_share)\n",
    "print('It is approximately even!')"
   ]
  },
  {
   "cell_type": "markdown",
   "metadata": {},
   "source": [
    "#### Get words from dataset"
   ]
  },
  {
   "cell_type": "code",
   "execution_count": 22,
   "metadata": {},
   "outputs": [
    {
     "data": {
      "text/plain": [
       "False"
      ]
     },
     "execution_count": 22,
     "metadata": {},
     "output_type": "execute_result"
    }
   ],
   "source": [
    "a = 'ZERO'\n",
    "b = 'ZERO'\n",
    "a is not b"
   ]
  },
  {
   "cell_type": "code",
   "execution_count": 9,
   "metadata": {},
   "outputs": [],
   "source": [
    "with open('ix_to_word.pickle', 'rb') as handle:\n",
    "    ix_to_word = pickle.load(handle)"
   ]
  },
  {
   "cell_type": "code",
   "execution_count": 33,
   "metadata": {},
   "outputs": [],
   "source": [
    "small_X_text = []\n",
    "for row in small_X:\n",
    "    small_X_text_vec = []\n",
    "    for value in row:\n",
    "        tmp = ix_to_word[str(value[0])]\n",
    "        if tmp != 'ZERO':\n",
    "            small_X_text_vec.append(tmp)\n",
    "    small_X_text.append(' '.join(small_X_text_vec))"
   ]
  },
  {
   "cell_type": "markdown",
   "metadata": {},
   "source": [
    "### Create the model"
   ]
  },
  {
   "cell_type": "code",
   "execution_count": 34,
   "metadata": {},
   "outputs": [
    {
     "name": "stdout",
     "output_type": "stream",
     "text": [
      "tge first bag i had was good and a nice change from chips but as i had these every day for lunch for a month i quickly tired of them the jalepeno one is the best they all leave a residue on your fingers\n"
     ]
    },
    {
     "data": {
      "text/html": [
       "<div>\n",
       "<style scoped>\n",
       "    .dataframe tbody tr th:only-of-type {\n",
       "        vertical-align: middle;\n",
       "    }\n",
       "\n",
       "    .dataframe tbody tr th {\n",
       "        vertical-align: top;\n",
       "    }\n",
       "\n",
       "    .dataframe thead th {\n",
       "        text-align: right;\n",
       "    }\n",
       "</style>\n",
       "<table border=\"1\" class=\"dataframe\">\n",
       "  <thead>\n",
       "    <tr style=\"text-align: right;\">\n",
       "      <th></th>\n",
       "      <th>small_X_text</th>\n",
       "    </tr>\n",
       "  </thead>\n",
       "  <tbody>\n",
       "    <tr>\n",
       "      <th>0</th>\n",
       "      <td>tge first bag i had was good and a nice change...</td>\n",
       "    </tr>\n",
       "    <tr>\n",
       "      <th>1</th>\n",
       "      <td>when i first got them he gulped them down but ...</td>\n",
       "    </tr>\n",
       "    <tr>\n",
       "      <th>2</th>\n",
       "      <td>i've bought these at the local supermarket and...</td>\n",
       "    </tr>\n",
       "    <tr>\n",
       "      <th>3</th>\n",
       "      <td>this extract doesn't smell like roses at all i...</td>\n",
       "    </tr>\n",
       "    <tr>\n",
       "      <th>4</th>\n",
       "      <td>we used these in the hospital and several staf...</td>\n",
       "    </tr>\n",
       "  </tbody>\n",
       "</table>\n",
       "</div>"
      ],
      "text/plain": [
       "                                        small_X_text\n",
       "0  tge first bag i had was good and a nice change...\n",
       "1  when i first got them he gulped them down but ...\n",
       "2  i've bought these at the local supermarket and...\n",
       "3  this extract doesn't smell like roses at all i...\n",
       "4  we used these in the hospital and several staf..."
      ]
     },
     "execution_count": 34,
     "metadata": {},
     "output_type": "execute_result"
    }
   ],
   "source": [
    "df_X = pd.DataFrame(data={'small_X_text': small_X_text})   \n",
    "print(str(small_X_text[0]))\n",
    "df_X.head()"
   ]
  },
  {
   "cell_type": "code",
   "execution_count": 37,
   "metadata": {},
   "outputs": [
    {
     "name": "stdout",
     "output_type": "stream",
     "text": [
      "# features: 19608\n",
      "# train records: 7500\n",
      "# test records: 2500\n",
      "Model validation accuracy: 0.7988\n",
      "\n",
      "-Top 20 positive-\n",
      "Word  Coefficient\n",
      "    perfect     1.845256\n",
      "     hooked     1.837109\n",
      "      yummy     1.773985\n",
      "     highly     1.693832\n",
      "  wonderful     1.665455\n",
      "       glad     1.594868\n",
      "  excellent     1.586839\n",
      "    british     1.537837\n",
      "         em     1.506473\n",
      "        yum     1.497987\n",
      "  delicious     1.491765\n",
      "    pleased     1.470227\n",
      "       best     1.457251\n",
      "    awesome     1.442297\n",
      "   enjoying     1.435469\n",
      "      thank     1.394711\n",
      "      great     1.323546\n",
      "      table     1.280591\n",
      "      loves     1.230550\n",
      "complaining     1.221705\n",
      "\n",
      "-Top 20 negative-\n",
      "Word  Coefficient\n",
      "          weak    -1.262285\n",
      "         guess    -1.268734\n",
      "disappointment    -1.287900\n",
      "         hulls    -1.300982\n",
      "            99    -1.305603\n",
      "       expired    -1.339663\n",
      "         money    -1.356984\n",
      "         cheap    -1.359928\n",
      "       concept    -1.379449\n",
      "      thinking    -1.382627\n",
      "         batch    -1.389653\n",
      "          okay    -1.393943\n",
      "       thought    -1.409400\n",
      "      horrible    -1.473348\n",
      "        chewed    -1.479819\n",
      "    sandwiches    -1.585354\n",
      " unfortunately    -1.591815\n",
      "      terrible    -1.645976\n",
      "         worst    -1.713004\n",
      " disappointing    -1.789767\n"
     ]
    }
   ],
   "source": [
    "c = CountVectorizer(stop_words = 'english')\n",
    "\n",
    "def text_fit(X, y, model, clf_model, coef_show=1):\n",
    "    \n",
    "    # Extract features for the data using 'model'\n",
    "    X_c = model.fit_transform(X)\n",
    "    print('# features: {}'.format(X_c.shape[1]))\n",
    "    # Validation data split\n",
    "    X_train, X_test, y_train, y_test = train_test_split(X_c, y, random_state=0)\n",
    "    print('# train records: {}'.format(X_train.shape[0]))\n",
    "    print('# test records: {}'.format(X_test.shape[0]))\n",
    "    \n",
    "    # Fit on the features with 'clf_model'\n",
    "    clf = clf_model.fit(X_train, y_train)\n",
    "    acc = clf.score(X_test, y_test)\n",
    "    print ('Model validation accuracy: {}'.format(acc))\n",
    "\n",
    "    if coef_show == 1: \n",
    "        w = model.get_feature_names()\n",
    "        coef = clf.coef_.tolist()[0]\n",
    "        coeff_df = pd.DataFrame({'Word' : w, 'Coefficient' : coef})\n",
    "        coeff_df = coeff_df.sort_values(['Coefficient', 'Word'], ascending=[0, 1])\n",
    "        print('')\n",
    "        print('-Top 20 positive-')\n",
    "        print(coeff_df.head(20).to_string(index=False))\n",
    "        print('')\n",
    "        print('-Top 20 negative-')        \n",
    "        print(coeff_df.tail(20).to_string(index=False))\n",
    "    \n",
    "df_X = pd.DataFrame(data={'small_X_text': small_X_text})    \n",
    "X_for_fit = df_X['small_X_text']\n",
    "text_fit(X_for_fit, small_Y, c, LogisticRegression())"
   ]
  },
  {
   "cell_type": "code",
   "execution_count": 38,
   "metadata": {},
   "outputs": [
    {
     "name": "stdout",
     "output_type": "stream",
     "text": [
      "# features: 19608\n",
      "# train records: 7500\n",
      "# test records: 2500\n",
      "Model validation accuracy: 0.8136\n",
      "\n",
      "-Top 20 positive-\n",
      "Word  Coefficient\n",
      "    great     6.599408\n",
      "     best     4.992030\n",
      "     love     4.488849\n",
      "  perfect     4.289590\n",
      "delicious     4.187150\n",
      "    loves     3.443353\n",
      "wonderful     3.419988\n",
      "excellent     3.177714\n",
      "   highly     3.157504\n",
      " favorite     2.991713\n",
      "     nice     2.860930\n",
      "    happy     2.780284\n",
      "     good     2.678220\n",
      "    yummy     2.637004\n",
      "     glad     2.349891\n",
      "    loved     2.313805\n",
      "     easy     2.263957\n",
      "  pleased     2.227835\n",
      "    thank     2.225404\n",
      "   smooth     2.197198\n",
      "\n",
      "-Top 20 negative-\n",
      "Word  Coefficient\n",
      "          won    -2.077030\n",
      "  description    -2.077432\n",
      "       wouldn    -2.085996\n",
      "        awful    -2.094545\n",
      "     terrible    -2.099308\n",
      "        stale    -2.158146\n",
      "        taste    -2.190664\n",
      "       return    -2.209147\n",
      "         weak    -2.242227\n",
      "         didn    -2.250201\n",
      "           ok    -2.272605\n",
      "         okay    -2.346166\n",
      "     horrible    -2.353214\n",
      "        worst    -2.402166\n",
      "unfortunately    -2.565242\n",
      "        money    -2.946518\n",
      "          bad    -2.948158\n",
      "          did    -3.130150\n",
      " disappointed    -3.224937\n",
      "      thought    -3.979506\n"
     ]
    }
   ],
   "source": [
    "# Like CountVectorizer but it also applies \n",
    "tfidf = TfidfVectorizer(stop_words = 'english')\n",
    "\n",
    "text_fit(X_for_fit, small_Y, tfidf, LogisticRegression())"
   ]
  },
  {
   "cell_type": "code",
   "execution_count": null,
   "metadata": {},
   "outputs": [],
   "source": []
  }
 ],
 "metadata": {
  "kernelspec": {
   "display_name": "Python 3",
   "language": "python",
   "name": "python3"
  },
  "language_info": {
   "codemirror_mode": {
    "name": "ipython",
    "version": 3
   },
   "file_extension": ".py",
   "mimetype": "text/x-python",
   "name": "python",
   "nbconvert_exporter": "python",
   "pygments_lexer": "ipython3",
   "version": "3.6.6"
  }
 },
 "nbformat": 4,
 "nbformat_minor": 2
}
