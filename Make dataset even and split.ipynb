{
 "cells": [
  {
   "cell_type": "markdown",
   "metadata": {},
   "source": [
    "# Make data even (negative vs. positive)\n",
    "# And split to test data"
   ]
  },
  {
   "cell_type": "code",
   "execution_count": 22,
   "metadata": {},
   "outputs": [],
   "source": [
    "import pickle\n",
    "from sklearn.model_selection import train_test_split\n",
    "import matplotlib.pyplot as plt\n",
    "import numpy as np"
   ]
  },
  {
   "cell_type": "markdown",
   "metadata": {},
   "source": [
    "## Get the data to use"
   ]
  },
  {
   "cell_type": "code",
   "execution_count": 23,
   "metadata": {},
   "outputs": [],
   "source": [
    "# Load data\n",
    "with open('tokenized_reviews.pickle', 'rb') as handle:\n",
    "    df = pickle.load(handle)\n",
    "\n",
    "X = df.WordIndeces.values\n",
    "Y = df.Label.values"
   ]
  },
  {
   "cell_type": "code",
   "execution_count": 24,
   "metadata": {},
   "outputs": [
    {
     "name": "stdout",
     "output_type": "stream",
     "text": [
      "Number of data points: 568454\n"
     ]
    },
    {
     "data": {
      "text/html": [
       "<div>\n",
       "<style scoped>\n",
       "    .dataframe tbody tr th:only-of-type {\n",
       "        vertical-align: middle;\n",
       "    }\n",
       "\n",
       "    .dataframe tbody tr th {\n",
       "        vertical-align: top;\n",
       "    }\n",
       "\n",
       "    .dataframe thead th {\n",
       "        text-align: right;\n",
       "    }\n",
       "</style>\n",
       "<table border=\"1\" class=\"dataframe\">\n",
       "  <thead>\n",
       "    <tr style=\"text-align: right;\">\n",
       "      <th></th>\n",
       "      <th>Label</th>\n",
       "      <th>Score</th>\n",
       "      <th>WordIndeces</th>\n",
       "    </tr>\n",
       "  </thead>\n",
       "  <tbody>\n",
       "    <tr>\n",
       "      <th>0</th>\n",
       "      <td>1</td>\n",
       "      <td>5</td>\n",
       "      <td>[2, 16, 123, 317, 7, 1, 4998, 516, 102, 51, 20...</td>\n",
       "    </tr>\n",
       "    <tr>\n",
       "      <th>1</th>\n",
       "      <td>0</td>\n",
       "      <td>1</td>\n",
       "      <td>[40, 372, 2210, 22, 5809, 1960, 1075, 1, 1075,...</td>\n",
       "    </tr>\n",
       "    <tr>\n",
       "      <th>2</th>\n",
       "      <td>1</td>\n",
       "      <td>4</td>\n",
       "      <td>[9, 8, 4, 7126, 13, 49, 82, 275, 4, 162, 9315,...</td>\n",
       "    </tr>\n",
       "    <tr>\n",
       "      <th>3</th>\n",
       "      <td>0</td>\n",
       "      <td>2</td>\n",
       "      <td>[35, 18, 19, 250, 10, 1, 2625, 570, 11, 24049,...</td>\n",
       "    </tr>\n",
       "    <tr>\n",
       "      <th>4</th>\n",
       "      <td>1</td>\n",
       "      <td>5</td>\n",
       "      <td>[37, 3580, 31, 4, 37, 86, 78, 20, 4, 2073, 214...</td>\n",
       "    </tr>\n",
       "  </tbody>\n",
       "</table>\n",
       "</div>"
      ],
      "text/plain": [
       "   Label  Score                                        WordIndeces\n",
       "0      1      5  [2, 16, 123, 317, 7, 1, 4998, 516, 102, 51, 20...\n",
       "1      0      1  [40, 372, 2210, 22, 5809, 1960, 1075, 1, 1075,...\n",
       "2      1      4  [9, 8, 4, 7126, 13, 49, 82, 275, 4, 162, 9315,...\n",
       "3      0      2  [35, 18, 19, 250, 10, 1, 2625, 570, 11, 24049,...\n",
       "4      1      5  [37, 3580, 31, 4, 37, 86, 78, 20, 4, 2073, 214..."
      ]
     },
     "execution_count": 24,
     "metadata": {},
     "output_type": "execute_result"
    }
   ],
   "source": [
    "print('Number of data points: %d' %len(Y))\n",
    "df.head()"
   ]
  },
  {
   "cell_type": "markdown",
   "metadata": {},
   "source": [
    "## Make the split"
   ]
  },
  {
   "cell_type": "code",
   "execution_count": 25,
   "metadata": {},
   "outputs": [],
   "source": [
    "X_train, X_test, Y_train, Y_test = train_test_split(X, Y, test_size=0.2, random_state=0)"
   ]
  },
  {
   "cell_type": "markdown",
   "metadata": {},
   "source": [
    "## Show the distribution"
   ]
  },
  {
   "cell_type": "code",
   "execution_count": 26,
   "metadata": {},
   "outputs": [
    {
     "data": {
      "image/png": "[encoded data removed]",
      "text/plain": [
       "<matplotlib.figure.Figure at 0x125fadeb8>"
      ]
     },
     "metadata": {},
     "output_type": "display_data"
    },
    {
     "name": "stdout",
     "output_type": "stream",
     "text": [
      "Total number of data points: 568454\n"
     ]
    },
    {
     "data": {
      "image/png": "[encoded data removed]",
      "text/plain": [
       "<matplotlib.figure.Figure at 0x11e54b908>"
      ]
     },
     "metadata": {},
     "output_type": "display_data"
    },
    {
     "name": "stdout",
     "output_type": "stream",
     "text": [
      "Number of training data points: 454763\n"
     ]
    },
    {
     "data": {
      "image/png": "[encoded data removed]",
      "text/plain": [
       "<matplotlib.figure.Figure at 0x12b7df4e0>"
      ]
     },
     "metadata": {},
     "output_type": "display_data"
    },
    {
     "name": "stdout",
     "output_type": "stream",
     "text": [
      "Number of testing data points: 113691\n"
     ]
    }
   ],
   "source": [
    "###### SCORE DISTRIBUTION ######\n",
    "plt.hist(df.Label.values, bins=[0,1,2], normed=True)\n",
    "plt.title('Total score distribution')\n",
    "plt.ylabel('Frequency')\n",
    "plt.xlabel('Score')\n",
    "plt.show()\n",
    "print('Total number of data points: %d' %len(df.Label.values))\n",
    "\n",
    "plt.hist(Y_train, bins=[0,1,2], normed=True)\n",
    "plt.title('Training data score distribution')\n",
    "plt.ylabel('Frequency')\n",
    "plt.xlabel('Score')\n",
    "plt.show()\n",
    "print('Number of training data points: %d' %len(Y_train))\n",
    "\n",
    "plt.hist(Y_test, bins=[0,1,2], normed=True)\n",
    "plt.title('Testing data score distribution')\n",
    "plt.ylabel('Frequency')\n",
    "plt.xlabel('Score')\n",
    "plt.show()\n",
    "print('Number of testing data points: %d' %len(Y_test))"
   ]
  },
  {
   "cell_type": "markdown",
   "metadata": {},
   "source": [
    "## Save data split"
   ]
  },
  {
   "cell_type": "code",
   "execution_count": 27,
   "metadata": {},
   "outputs": [],
   "source": [
    "with open('X_train.pickle', 'wb') as handle:\n",
    "    pickle.dump(X_train, handle, protocol=pickle.HIGHEST_PROTOCOL)\n",
    "    \n",
    "with open('Y_train.pickle', 'wb') as handle:\n",
    "    pickle.dump(Y_train, handle, protocol=pickle.HIGHEST_PROTOCOL)\n",
    "    \n",
    "with open('X_test.pickle', 'wb') as handle:\n",
    "    pickle.dump(X_test, handle, protocol=pickle.HIGHEST_PROTOCOL)\n",
    "    \n",
    "with open('Y_test.pickle', 'wb') as handle:\n",
    "    pickle.dump(Y_test, handle, protocol=pickle.HIGHEST_PROTOCOL)"
   ]
  },
  {
   "cell_type": "markdown",
   "metadata": {},
   "source": [
    "## Make even subsets"
   ]
  },
  {
   "cell_type": "code",
   "execution_count": 28,
   "metadata": {},
   "outputs": [
    {
     "data": {
      "text/plain": [
       "(array([0, 2]),)"
      ]
     },
     "execution_count": 28,
     "metadata": {},
     "output_type": "execute_result"
    }
   ],
   "source": [
    "A = np.array([1,2,1])\n",
    "np.nonzero(A==1)"
   ]
  },
  {
   "cell_type": "code",
   "execution_count": 29,
   "metadata": {},
   "outputs": [
    {
     "name": "stdout",
     "output_type": "stream",
     "text": [
      "Number of negative reviews: 124677\n",
      "Percentage of upvote transactions:  0.5\n",
      "Percentage of downvote transactions:  0.5\n",
      "Total number of records in resampled data:  249354\n"
     ]
    }
   ],
   "source": [
    "downvote_records = len(Y[Y == 0])\n",
    "print('Number of negative reviews: %d' %downvote_records)\n",
    "downvote_indices = np.array(np.nonzero(Y == 0)).transpose()\n",
    "downvote_indices = downvote_indices.reshape(len(downvote_indices))\n",
    "\n",
    "upvote_indices = np.array(np.nonzero(Y == 1)).transpose()\n",
    "upvote_indices = upvote_indices.reshape(len(upvote_indices))\n",
    "\n",
    "random_upvote_indices = np.random.choice(upvote_indices, downvote_records, replace = False)\n",
    "random_upvote_indices = np.array(random_upvote_indices)\n",
    "\n",
    "under_sample_indices = np.concatenate([downvote_indices,random_upvote_indices])\n",
    "\n",
    "Y_even = Y[under_sample_indices]\n",
    "X_even = X[under_sample_indices]\n",
    "scores_even = df.Score.values[under_sample_indices]\n",
    "\n",
    "print(\"Percentage of upvote transactions: \", len(Y_even[Y_even == 1])/len(Y_even))\n",
    "print(\"Percentage of downvote transactions: \", len(Y_even[Y_even == 0])/len(Y_even))\n",
    "print(\"Total number of records in resampled data: \", len(Y_even))"
   ]
  },
  {
   "cell_type": "markdown",
   "metadata": {},
   "source": [
    "## Make even subset split"
   ]
  },
  {
   "cell_type": "code",
   "execution_count": 30,
   "metadata": {},
   "outputs": [],
   "source": [
    "X_train_even, X_test_even, Y_train_even, Y_test_even, scores_train_even, scores_test_even = train_test_split(X_even, Y_even, scores_even, test_size=0.2, random_state=0)"
   ]
  },
  {
   "cell_type": "markdown",
   "metadata": {},
   "source": [
    "## Show even subset"
   ]
  },
  {
   "cell_type": "code",
   "execution_count": 31,
   "metadata": {},
   "outputs": [
    {
     "data": {
      "image/png": "[encoded data removed]",
      "text/plain": [
       "<matplotlib.figure.Figure at 0x14b9b1940>"
      ]
     },
     "metadata": {},
     "output_type": "display_data"
    },
    {
     "name": "stdout",
     "output_type": "stream",
     "text": [
      "Total number of data points: 249354\n"
     ]
    },
    {
     "data": {
      "image/png": "[encoded data removed]",
      "text/plain": [
       "<matplotlib.figure.Figure at 0x11c098080>"
      ]
     },
     "metadata": {},
     "output_type": "display_data"
    },
    {
     "name": "stdout",
     "output_type": "stream",
     "text": [
      "Number of training data points: 199483\n"
     ]
    },
    {
     "data": {
      "image/png": "[encoded data removed]",
      "text/plain": [
       "<matplotlib.figure.Figure at 0x14ba10860>"
      ]
     },
     "metadata": {},
     "output_type": "display_data"
    },
    {
     "name": "stdout",
     "output_type": "stream",
     "text": [
      "Number of testing data points: 49871\n"
     ]
    }
   ],
   "source": [
    "###### SCORE DISTRIBUTION ######\n",
    "plt.hist(Y_even, bins=[0,1,2], normed=True)\n",
    "plt.title('Total score distribution')\n",
    "plt.ylabel('Frequency')\n",
    "plt.xlabel('Score')\n",
    "plt.show()\n",
    "print('Total number of data points: %d' %len(Y_even))\n",
    "\n",
    "plt.hist(Y_train_even, bins=[0,1,2], normed=True)\n",
    "plt.title('Training data score distribution')\n",
    "plt.ylabel('Frequency')\n",
    "plt.xlabel('Score')\n",
    "plt.show()\n",
    "print('Number of training data points: %d' %len(Y_train_even))\n",
    "\n",
    "plt.hist(Y_test_even, bins=[0,1,2], normed=True)\n",
    "plt.title('Testing data score distribution')\n",
    "plt.ylabel('Frequency')\n",
    "plt.xlabel('Score')\n",
    "plt.show()\n",
    "print('Number of testing data points: %d' %len(Y_test_even))"
   ]
  },
  {
   "cell_type": "markdown",
   "metadata": {},
   "source": [
    "## Reformat"
   ]
  },
  {
   "cell_type": "code",
   "execution_count": 32,
   "metadata": {},
   "outputs": [
    {
     "name": "stdout",
     "output_type": "stream",
     "text": [
      "Training and testing data shapes:\n",
      "(199483, 100, 1)\n",
      "(49871, 100, 1)\n"
     ]
    }
   ],
   "source": [
    "second_dim = len(X_train_even[0])\n",
    "tmp = np.concatenate(X_train_even).ravel()\n",
    "X_train_even = np.reshape(tmp,(len(X_train_even),second_dim,1))\n",
    "\n",
    "tmp = np.concatenate(X_test_even).ravel()\n",
    "X_test_even = np.reshape(tmp,(len(X_test_even),second_dim,1))\n",
    "\n",
    "print('Training and testing data shapes:')\n",
    "print(X_train_even.shape)\n",
    "print(X_test_even.shape)"
   ]
  },
  {
   "cell_type": "markdown",
   "metadata": {},
   "source": [
    "## Save even split"
   ]
  },
  {
   "cell_type": "code",
   "execution_count": 33,
   "metadata": {},
   "outputs": [],
   "source": [
    "with open('X_train_even.pickle', 'wb') as handle:\n",
    "    pickle.dump(X_train_even, handle, protocol=pickle.HIGHEST_PROTOCOL)\n",
    "    \n",
    "with open('Y_train_even.pickle', 'wb') as handle:\n",
    "    pickle.dump(Y_train_even, handle, protocol=pickle.HIGHEST_PROTOCOL)\n",
    "    \n",
    "with open('X_test_even.pickle', 'wb') as handle:\n",
    "    pickle.dump(X_test_even, handle, protocol=pickle.HIGHEST_PROTOCOL)\n",
    "    \n",
    "with open('Y_test_even.pickle', 'wb') as handle:\n",
    "    pickle.dump(Y_test_even, handle, protocol=pickle.HIGHEST_PROTOCOL)\n",
    "    \n",
    "with open('scores_train_even.pickle', 'wb') as handle:\n",
    "    pickle.dump(scores_train_even, handle, protocol=pickle.HIGHEST_PROTOCOL)\n",
    "    \n",
    "with open('scores_test_even.pickle', 'wb') as handle:\n",
    "    pickle.dump(scores_test_even, handle, protocol=pickle.HIGHEST_PROTOCOL)"
   ]
  },
  {
   "cell_type": "code",
   "execution_count": null,
   "metadata": {},
   "outputs": [],
   "source": []
  }
 ],
 "metadata": {
  "kernelspec": {
   "display_name": "Python 3",
   "language": "python",
   "name": "python3"
  },
  "language_info": {
   "codemirror_mode": {
    "name": "ipython",
    "version": 3
   },
   "file_extension": ".py",
   "mimetype": "text/x-python",
   "name": "python",
   "nbconvert_exporter": "python",
   "pygments_lexer": "ipython3",
   "version": "3.6.4"
  }
 },
 "nbformat": 4,
 "nbformat_minor": 2
}
