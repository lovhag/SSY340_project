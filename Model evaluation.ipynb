{
 "cells": [
  {
   "cell_type": "markdown",
   "metadata": {},
   "source": [
    "# Model evaluation"
   ]
  },
  {
   "cell_type": "markdown",
   "metadata": {},
   "source": [
    "## Import packages"
   ]
  },
  {
   "cell_type": "code",
   "execution_count": 21,
   "metadata": {},
   "outputs": [],
   "source": [
    "from keras.models import load_model\n",
    "\n",
    "import pickle\n",
    "import numpy as np\n",
    "import matplotlib.pyplot as plt\n",
    "plt.rc('text', usetex=True)\n",
    "plt.rc('font', family='serif')"
   ]
  },
  {
   "cell_type": "markdown",
   "metadata": {},
   "source": [
    "## Load the test data"
   ]
  },
  {
   "cell_type": "code",
   "execution_count": 5,
   "metadata": {},
   "outputs": [
    {
     "name": "stdout",
     "output_type": "stream",
     "text": [
      "Loaded dataset with 49871 test samples.\n",
      "The length of each review is 100.\n"
     ]
    }
   ],
   "source": [
    "# import the data\n",
    "with open('X_test_even.pickle', 'rb') as handle:\n",
    "    X_test = pickle.load(handle)\n",
    "    \n",
    "with open('Y_test_even.pickle', 'rb') as handle:\n",
    "    Y_test = pickle.load(handle)\n",
    "    \n",
    "with open('scores_test_even.pickle', 'rb') as handle:\n",
    "    scores_test = pickle.load(handle)\n",
    "    \n",
    "# import dictionaries\n",
    "with open('ix_to_word.pickle', 'rb') as handle:\n",
    "    ix_to_word = pickle.load(handle)\n",
    "    \n",
    "# small change in format\n",
    "nbr_reviews = len(X_test)\n",
    "review_length = len(X_test[0])\n",
    "tmp = np.concatenate(X_test).ravel()\n",
    "X_test = np.reshape(tmp,(nbr_reviews,review_length))\n",
    "\n",
    "vocabulary_size = 46210\n",
    "\n",
    "print('Loaded dataset with {} test samples.'.format(nbr_reviews))\n",
    "print('The length of each review is {}.'.format(review_length))"
   ]
  },
  {
   "cell_type": "markdown",
   "metadata": {},
   "source": [
    "## Choose the model to evaluate"
   ]
  },
  {
   "cell_type": "code",
   "execution_count": 14,
   "metadata": {},
   "outputs": [
    {
     "name": "stdout",
     "output_type": "stream",
     "text": [
      "_________________________________________________________________\n",
      "Layer (type)                 Output Shape              Param #   \n",
      "=================================================================\n",
      "embedding_6 (Embedding)      (None, 100, 300)          13863300  \n",
      "_________________________________________________________________\n",
      "conv1d_7 (Conv1D)            (None, 99, 100)           60100     \n",
      "_________________________________________________________________\n",
      "batch_normalization_2 (Batch (None, 99, 100)           400       \n",
      "_________________________________________________________________\n",
      "conv1d_8 (Conv1D)            (None, 96, 100)           40100     \n",
      "_________________________________________________________________\n",
      "gru_5 (GRU)                  (None, 256)               274176    \n",
      "_________________________________________________________________\n",
      "dense_9 (Dense)              (None, 128)               32896     \n",
      "_________________________________________________________________\n",
      "dense_10 (Dense)             (None, 1)                 129       \n",
      "=================================================================\n",
      "Total params: 14,271,101\n",
      "Trainable params: 14,270,901\n",
      "Non-trainable params: 200\n",
      "_________________________________________________________________\n",
      "None\n"
     ]
    }
   ],
   "source": [
    "model = load_model('second_RNN_GRU_CNN_XXX.h5')\n",
    "print(model.summary())\n",
    "preds_original = model.predict(X_test).T\n",
    "#preds = np.round(model.predict(X_test)).T\n",
    "#preds = preds[0]"
   ]
  },
  {
   "cell_type": "code",
   "execution_count": 15,
   "metadata": {},
   "outputs": [],
   "source": [
    "preds_scalar = preds_original[0]\n",
    "preds = np.round(preds_original[0])"
   ]
  },
  {
   "cell_type": "markdown",
   "metadata": {},
   "source": [
    "## Investigate review missclassifications"
   ]
  },
  {
   "cell_type": "code",
   "execution_count": 18,
   "metadata": {},
   "outputs": [
    {
     "name": "stdout",
     "output_type": "stream",
     "text": [
      "Out of 49871 test reviews, 4530 were misclassified.\n",
      "A few examples of the misclassified reviews:\n",
      "1. Predicted output: 0.1792284995317459 Actual label: 1 Score: 4\n",
      "i am ordering the coconut raw nectar again becasue of the health benifits and i like it in my coffee the last package was packaged very well but the last bottle has begun to crystalize which means its not as fresh i have purchased this product before in bulk in my community and never had a problem with it crystalizing i hope this next shipment will be fresh\n",
      " \n",
      "1. Predicted output: 0.9388192296028137 Actual label: 0 Score: 3\n",
      "recieved this product a day early witch was niece looks good and works great cost seems a little high\n",
      " \n",
      "1. Predicted output: 0.4060961604118347 Actual label: 1 Score: 5\n",
      "to get their fruit servings each package is equivalent to one fruit in diabetic lingo i recommend these for all diabetic people be careful when you make your purchase to verify you are getting what you want because there is a product called fruit strips that is equivalent 2 fruit\n",
      " \n",
      "1. Predicted output: 0.9852153062820435 Actual label: 0 Score: 3\n",
      "don't get me wrong they're pretty good but you kind of get tired of seeing mango grape and pomegranate every sing time make this stuff balanced dangit\n",
      " \n",
      "1. Predicted output: 0.01539040356874466 Actual label: 1 Score: 5\n",
      "i recently discovered this drink and liked the idea of dry soda i ordered on case of the mixed and found that rhubarb cucumber juniper berry were quite tasty i also ordered a case of lavender and vanilla the lavender i liked very much and did find it relaxing at night the vanilla was a little too sweet for my tastes and did leave an after taste as the others noted above did not i would recommend this product but this company must do something about the shipping costs horrible when shipping is more than the actual product not even\n",
      " \n",
      "1. Predicted output: 0.9359726309776306 Actual label: 0 Score: 3\n",
      "grew up in new england had lots of maple sugar candy that being said not very sweet and with a subtle maple flavor\n",
      " \n",
      "1. Predicted output: 0.5059304237365723 Actual label: 0 Score: 1\n",
      "this cost in the super market $4 50 so why i going to pay almost 00 for one can of this product\n",
      " \n"
     ]
    }
   ],
   "source": [
    "misclassifications = np.where(preds!=Y_test)\n",
    "misclassifications = misclassifications[0]\n",
    "print('Out of {} test reviews, {} were misclassified.'.format(nbr_reviews, len(misclassifications)))\n",
    "print('A few examples of the misclassified reviews:')\n",
    "\n",
    "def print_sentence(index):\n",
    "    sentence_ix = misclassifications[index]\n",
    "    tmp = []\n",
    "    for val in X_test[sentence_ix]:\n",
    "        if ix_to_word[str(val)] == 'ZERO':\n",
    "            break\n",
    "        tmp.append(ix_to_word[str(val)])\n",
    "    processed_sentence = ' '.join(tmp)\n",
    "    print(processed_sentence)\n",
    "    \n",
    "def print_misclassification(index):\n",
    "    print('1. Predicted output: {} Actual label: {} Score: {}'.format(preds_scalar[misclassifications[index]], Y_test[misclassifications[index]], scores_test[misclassifications[index]]))\n",
    "    print_sentence(index)\n",
    "    print(' ')\n",
    "  \n",
    "print_misclassification(0)\n",
    "print_misclassification(10)\n",
    "print_misclassification(20)\n",
    "print_misclassification(30)\n",
    "print_misclassification(40)\n",
    "print_misclassification(50)\n",
    "print_misclassification(60)"
   ]
  },
  {
   "cell_type": "markdown",
   "metadata": {},
   "source": [
    "## Investigate missclassifications based on review length"
   ]
  },
  {
   "cell_type": "code",
   "execution_count": 34,
   "metadata": {},
   "outputs": [
    {
     "data": {
      "image/png": "[encoded data removed]",
      "text/plain": [
       "<Figure size 432x288 with 1 Axes>"
      ]
     },
     "metadata": {},
     "output_type": "display_data"
    }
   ],
   "source": [
    "miss_len_vec = []\n",
    "for index in misclassifications:\n",
    "    review_len = 0\n",
    "    for val in X_test[index]:\n",
    "        if ix_to_word[str(val)] == 'ZERO':\n",
    "            break\n",
    "        else:\n",
    "            review_len += 1\n",
    "    miss_len_vec.append(review_len)\n",
    "\n",
    "plt.hist(miss_len_vec)\n",
    "plt.title('Number of mistakes made per review length')\n",
    "plt.xlabel('Review length')\n",
    "plt.ylabel('Number of mistakes')\n",
    "plt.show()"
   ]
  },
  {
   "cell_type": "code",
   "execution_count": 35,
   "metadata": {},
   "outputs": [
    {
     "data": {
      "image/png": "[encoded data removed]",
      "text/plain": [
       "<Figure size 432x288 with 1 Axes>"
      ]
     },
     "metadata": {},
     "output_type": "display_data"
    }
   ],
   "source": [
    "plt.hist(miss_len_vec)\n",
    "plt.title('Number of mistakes made per review length')\n",
    "plt.xlabel('Review length')\n",
    "plt.ylabel('Number of mistakes')\n",
    "plt.draw()\n",
    "plt.savefig('missed_lengths.pgf')"
   ]
  },
  {
   "cell_type": "markdown",
   "metadata": {},
   "source": [
    "## Score distribution"
   ]
  },
  {
   "cell_type": "code",
   "execution_count": 19,
   "metadata": {},
   "outputs": [
    {
     "name": "stderr",
     "output_type": "stream",
     "text": [
      "C:\\Users\\lovis\\Anaconda3\\envs\\dmlGPU\\lib\\site-packages\\matplotlib\\axes\\_axes.py:6571: UserWarning: The 'normed' kwarg is deprecated, and has been replaced by the 'density' kwarg.\n",
      "  warnings.warn(\"The 'normed' kwarg is deprecated, and has been \"\n"
     ]
    },
    {
     "data": {
      "image/png": "[encoded data removed]",
      "text/plain": [
       "<Figure size 432x288 with 1 Axes>"
      ]
     },
     "metadata": {},
     "output_type": "display_data"
    },
    {
     "data": {
      "image/png": "[encoded data removed]",
      "text/plain": [
       "<Figure size 432x288 with 1 Axes>"
      ]
     },
     "metadata": {},
     "output_type": "display_data"
    },
    {
     "data": {
      "image/png": "[encoded data removed]",
      "text/plain": [
       "<Figure size 432x288 with 1 Axes>"
      ]
     },
     "metadata": {},
     "output_type": "display_data"
    }
   ],
   "source": [
    "# Distribution of scores for whole test set\n",
    "plt.hist(scores_test, bins=[1,2,3,4,5,6], normed=True)\n",
    "plt.title('Total score distribution of test set')\n",
    "plt.ylabel('Frequency')\n",
    "plt.xlabel('Score')\n",
    "plt.xticks([1.5,2.5,3.5,4.5,5.5],[1,2,3,4,5])\n",
    "plt.show()\n",
    "#print('Total number of data points: %d' %len(Y_even))\n",
    "\n",
    "# Number of missclassifications per score type\n",
    "plt.hist(scores_test[misclassifications], bins=[1,2,3,4,5,6], normed=True)\n",
    "plt.title('Score distribution of misclassifications')\n",
    "plt.ylabel('Frequency')\n",
    "plt.xlabel('Score')\n",
    "#plt.Axes.set_xticks(ticks=[1.5,2.5,3.5,4.5,5.5])\n",
    "plt.xticks([1.5,2.5,3.5,4.5,5.5],[1,2,3,4,5])\n",
    "plt.show()\n",
    "#print('Number of training data points: %d' %len(Y_train_even))\n",
    "\n",
    "num_scores = [sum(scores_test == 1), sum(scores_test == 2), sum(scores_test == 3), sum(scores_test == 4), sum(scores_test == 5)]\n",
    "num_scores_misclassifications = [sum(scores_test[misclassifications] == 1), sum(scores_test[misclassifications] == 2), sum(scores_test[misclassifications] == 3), sum(scores_test[misclassifications] == 4), sum(scores_test[misclassifications] == 5)]\n",
    "\n",
    "scaled_scores_mis = [num_scores_misclassifications[i]/num_scores[i] for i in range(5)]\n",
    "scaled_scores_mis = np.round([x*1000 for x in scaled_scores_mis])\n",
    "scaled_scores_mis_data = [1] * int(scaled_scores_mis[0]) + [2] * int(scaled_scores_mis[1]) + [3] * int(scaled_scores_mis[2]) + [4] * int(scaled_scores_mis[3]) + [5] * int(scaled_scores_mis[4])\n",
    "\n",
    "# Scaled with number of reviews per score\n",
    "plt.hist(scaled_scores_mis_data, bins=[1,2,3,4,5,6], normed=True)\n",
    "plt.title('Score distribution of misclassifications')\n",
    "plt.ylabel('Frequency')\n",
    "plt.xlabel('Score')\n",
    "#plt.Axes.set_xticks(ticks=[1.5,2.5,3.5,4.5,5.5])\n",
    "plt.xticks([1.5,2.5,3.5,4.5,5.5],[1,2,3,4,5])\n",
    "plt.show()\n",
    "#print('Number of training data points: %d' %len(Y_train_even))"
   ]
  },
  {
   "cell_type": "markdown",
   "metadata": {},
   "source": [
    "## Save figure with distribution"
   ]
  },
  {
   "cell_type": "code",
   "execution_count": 22,
   "metadata": {},
   "outputs": [
    {
     "name": "stderr",
     "output_type": "stream",
     "text": [
      "C:\\Users\\lovis\\Anaconda3\\envs\\dmlGPU\\lib\\site-packages\\matplotlib\\axes\\_axes.py:6571: UserWarning: The 'normed' kwarg is deprecated, and has been replaced by the 'density' kwarg.\n",
      "  warnings.warn(\"The 'normed' kwarg is deprecated, and has been \"\n"
     ]
    },
    {
     "data": {
      "image/png": "[encoded data removed]",
      "text/plain": [
       "<Figure size 432x288 with 1 Axes>"
      ]
     },
     "metadata": {},
     "output_type": "display_data"
    }
   ],
   "source": [
    "# Scaled with number of reviews per score\n",
    "plt.hist(scaled_scores_mis_data, bins=[1,2,3,4,5,6], normed=True)\n",
    "plt.title('Score distribution of misclassifications')\n",
    "plt.ylabel('Frequency')\n",
    "plt.xlabel('Score')\n",
    "plt.xticks([1.5,2.5,3.5,4.5,5.5],[1,2,3,4,5])\n",
    "plt.draw()\n",
    "plt.savefig('missclass_by_score_distrib.pgf')"
   ]
  }
 ],
 "metadata": {
  "kernelspec": {
   "display_name": "Python 3",
   "language": "python",
   "name": "python3"
  },
  "language_info": {
   "codemirror_mode": {
    "name": "ipython",
    "version": 3
   },
   "file_extension": ".py",
   "mimetype": "text/x-python",
   "name": "python",
   "nbconvert_exporter": "python",
   "pygments_lexer": "ipython3",
   "version": "3.6.6"
  }
 },
 "nbformat": 4,
 "nbformat_minor": 2
}
