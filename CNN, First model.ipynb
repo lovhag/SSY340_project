{
 "cells": [
  {
   "cell_type": "markdown",
   "metadata": {},
   "source": [
    "# CNN, First model"
   ]
  },
  {
   "cell_type": "markdown",
   "metadata": {},
   "source": [
    "### Imports and fetch data"
   ]
  },
  {
   "cell_type": "code",
   "execution_count": 13,
   "metadata": {},
   "outputs": [],
   "source": [
    "from keras.models import Sequential, load_model\n",
    "from keras.layers import Dense, Dropout, BatchNormalization, Flatten, Conv1D, GlobalMaxPooling1D\n",
    "from keras.layers.embeddings import Embedding\n",
    "from keras.callbacks import TensorBoard, EarlyStopping\n",
    "import pickle\n",
    "import numpy as np\n",
    "import matplotlib.pyplot as plt\n"
   ]
  },
  {
   "cell_type": "code",
   "execution_count": 14,
   "metadata": {},
   "outputs": [
    {
     "name": "stdout",
     "output_type": "stream",
     "text": [
      "Loaded dataset with 199483 training samples, 49871 test samples\n",
      "The length of each review is 100.\n"
     ]
    }
   ],
   "source": [
    "# import data\n",
    "with open('X_train_even.pickle', 'rb') as handle:\n",
    "    X_train = pickle.load(handle)\n",
    "    \n",
    "with open('Y_train_even.pickle', 'rb') as handle:\n",
    "    Y_train = pickle.load(handle)\n",
    "    \n",
    "with open('scores_train_even.pickle', 'rb') as handle:\n",
    "    scores_train = pickle.load(handle)\n",
    "    \n",
    "with open('X_test_even.pickle', 'rb') as handle:\n",
    "    X_test = pickle.load(handle)\n",
    "    \n",
    "with open('Y_test_even.pickle', 'rb') as handle:\n",
    "    Y_test = pickle.load(handle)\n",
    "    \n",
    "with open('scores_test_even.pickle', 'rb') as handle:\n",
    "    scores_test = pickle.load(handle)\n",
    "    \n",
    "# import dictionaries\n",
    "with open('ix_to_word.pickle', 'rb') as handle:\n",
    "    ix_to_word = pickle.load(handle)\n",
    "    \n",
    "# small change in format\n",
    "tmp = np.concatenate(X_train).ravel()\n",
    "X_train = np.reshape(tmp,(len(X_train),100))\n",
    "\n",
    "tmp = np.concatenate(X_test).ravel()\n",
    "X_test = np.reshape(tmp,(len(X_test),100))\n",
    "\n",
    "review_length = X_test.shape[1]\n",
    "num_words = 46210\n",
    "\n",
    "print('Loaded dataset with {} training samples, {} test samples'.format(len(X_train), len(X_test)))\n",
    "print('The length of each review is {}.'.format(review_length))\n"
   ]
  },
  {
   "cell_type": "code",
   "execution_count": 15,
   "metadata": {},
   "outputs": [],
   "source": [
    "num_datapoints = 10000\n",
    "\n",
    "small_Y = Y_train[0:num_datapoints]\n",
    "small_X = X_train[0:num_datapoints]"
   ]
  },
  {
   "cell_type": "markdown",
   "metadata": {},
   "source": [
    "### Define models to try"
   ]
  },
  {
   "cell_type": "code",
   "execution_count": 16,
   "metadata": {},
   "outputs": [],
   "source": [
    "def one_conv_model(review_length, num_words):\n",
    "    model = Sequential()\n",
    "    emb = Embedding(num_words, 200, input_length=review_length)\n",
    "    model.add(emb)\n",
    "    model.add(Conv1D(filters=100, kernel_size=2, padding='valid', activation='relu', strides=1))\n",
    "    model.add(GlobalMaxPooling1D())\n",
    "    model.add(Dense(256, activation='relu'))\n",
    "    model.add(Dense(1, activation='sigmoid'))\n",
    "    return model"
   ]
  },
  {
   "cell_type": "code",
   "execution_count": 17,
   "metadata": {},
   "outputs": [],
   "source": [
    "def two_conv_model(review_length, num_words):\n",
    "    model = Sequential()\n",
    "    emb = Embedding(num_words, 200, input_length=review_length)\n",
    "    model.add(emb)\n",
    "    model.add(Conv1D(filters=100, kernel_size=2, padding='valid', activation='relu', strides=1))\n",
    "    model.add(Conv1D(filters=100, kernel_size=2, padding='valid', activation='relu', strides=1))\n",
    "    model.add(GlobalMaxPooling1D())\n",
    "    model.add(Dense(256, activation='relu'))\n",
    "    model.add(Dense(1, activation='sigmoid'))\n",
    "    return model"
   ]
  },
  {
   "cell_type": "code",
   "execution_count": 18,
   "metadata": {},
   "outputs": [],
   "source": [
    "def two_conv_regularized_model(review_length, num_words):\n",
    "    model = Sequential()\n",
    "    emb = Embedding(num_words, 200, input_length=review_length)\n",
    "    model.add(emb)\n",
    "    model.add(Conv1D(filters=100, kernel_size=2, padding='valid', activation='relu', strides=1))\n",
    "    model.add(BatchNormalization())\n",
    "    model.add(Conv1D(filters=100, kernel_size=2, padding='valid', activation='relu', strides=1))\n",
    "    model.add(BatchNormalization())\n",
    "    model.add(GlobalMaxPooling1D())\n",
    "    model.add(Dense(256, activation='relu'))\n",
    "    model.add(Dense(1, activation='sigmoid'))\n",
    "    return model"
   ]
  },
  {
   "cell_type": "code",
   "execution_count": 19,
   "metadata": {},
   "outputs": [],
   "source": [
    "def two_conv_regularized_larger_kernel_model(review_length, num_words):\n",
    "    model = Sequential()\n",
    "    emb = Embedding(num_words, 200, input_length=review_length)\n",
    "    model.add(emb)\n",
    "    model.add(Conv1D(filters=100, kernel_size=2, padding='valid', activation='relu', strides=1))\n",
    "    model.add(BatchNormalization())\n",
    "    model.add(Conv1D(filters=100, kernel_size=4, padding='valid', activation='relu', strides=1))\n",
    "    model.add(BatchNormalization())\n",
    "    model.add(GlobalMaxPooling1D())\n",
    "    model.add(Dense(256, activation='relu'))\n",
    "    model.add(Dense(1, activation='sigmoid'))\n",
    "    return model"
   ]
  },
  {
   "cell_type": "code",
   "execution_count": 20,
   "metadata": {},
   "outputs": [],
   "source": [
    "def three_conv_regularized_model(review_length, num_words):\n",
    "    model = Sequential()\n",
    "    emb = Embedding(num_words, 200, input_length=review_length)\n",
    "    model.add(emb)\n",
    "    model.add(Conv1D(filters=50, kernel_size=2, padding='valid', activation='relu', strides=1))\n",
    "    model.add(BatchNormalization())\n",
    "    model.add(Conv1D(filters=30, kernel_size=2, padding='valid', activation='relu', strides=1))\n",
    "    model.add(BatchNormalization())\n",
    "    model.add(Conv1D(filters=20, kernel_size=2, padding='valid', activation='relu', strides=1))\n",
    "    model.add(BatchNormalization())\n",
    "    model.add(GlobalMaxPooling1D())\n",
    "    model.add(Dense(256, activation='relu'))\n",
    "    model.add(Dense(1, activation='sigmoid'))\n",
    "    return model"
   ]
  },
  {
   "cell_type": "code",
   "execution_count": 21,
   "metadata": {},
   "outputs": [],
   "source": [
    "def three_conv_more_filter_model(review_length, num_words):\n",
    "    model = Sequential()\n",
    "    emb = Embedding(num_words, 200, input_length=review_length)\n",
    "    model.add(emb)\n",
    "    model.add(Conv1D(filters=100, kernel_size=2, padding='valid', activation='relu', strides=1))\n",
    "    model.add(BatchNormalization())\n",
    "    model.add(Conv1D(filters=100, kernel_size=2, padding='valid', activation='relu', strides=1))\n",
    "    model.add(BatchNormalization())\n",
    "    model.add(Conv1D(filters=100, kernel_size=2, padding='valid', activation='relu', strides=1))\n",
    "    model.add(BatchNormalization())\n",
    "    model.add(GlobalMaxPooling1D())\n",
    "    model.add(Dense(256, activation='relu'))\n",
    "    model.add(Dense(1, activation='sigmoid'))\n",
    "    return model"
   ]
  },
  {
   "cell_type": "code",
   "execution_count": 22,
   "metadata": {},
   "outputs": [],
   "source": [
    "def three_conv_larger_kernel_model(review_length, num_words):\n",
    "    model = Sequential()\n",
    "    emb = Embedding(num_words, 200, input_length=review_length)\n",
    "    model.add(emb)\n",
    "    model.add(Conv1D(filters=100, kernel_size=2, padding='valid', activation='relu', strides=1))\n",
    "    model.add(BatchNormalization())\n",
    "    model.add(Conv1D(filters=100, kernel_size=3, padding='valid', activation='relu', strides=1))\n",
    "    model.add(BatchNormalization())\n",
    "    model.add(Conv1D(filters=100, kernel_size=5, padding='valid', activation='relu', strides=1))\n",
    "    model.add(BatchNormalization())\n",
    "    model.add(GlobalMaxPooling1D())\n",
    "    model.add(Dense(256, activation='relu'))\n",
    "    model.add(Dense(1, activation='sigmoid'))\n",
    "    return model"
   ]
  },
  {
   "cell_type": "code",
   "execution_count": 23,
   "metadata": {},
   "outputs": [],
   "source": [
    "def vanilla_nn(review_length, num_words):\n",
    "    model = Sequential()\n",
    "    emb = Embedding(num_words, 200, input_length=review_length)\n",
    "    model.add(emb)\n",
    "    model.add(Flatten())\n",
    "    model.add(Dense(256, activation='relu'))\n",
    "    model.add(Dense(1, activation='sigmoid'))\n",
    "    return model"
   ]
  },
  {
   "cell_type": "markdown",
   "metadata": {},
   "source": [
    "### Train models"
   ]
  },
  {
   "cell_type": "code",
   "execution_count": 24,
   "metadata": {
    "scrolled": true
   },
   "outputs": [
    {
     "name": "stdout",
     "output_type": "stream",
     "text": [
      "Train on 159586 samples, validate on 39897 samples\n",
      "Epoch 1/10\n",
      "159586/159586 [==============================] - 16s 99us/step - loss: 0.3315 - acc: 0.8544 - val_loss: 0.2614 - val_acc: 0.8952\n",
      "Epoch 2/10\n",
      "159586/159586 [==============================] - 15s 96us/step - loss: 0.1892 - acc: 0.9283 - val_loss: 0.2715 - val_acc: 0.8956\n",
      "Epoch 3/10\n",
      "159586/159586 [==============================] - 15s 96us/step - loss: 0.1027 - acc: 0.9638 - val_loss: 0.3137 - val_acc: 0.8933\n",
      "Epoch 4/10\n",
      "159586/159586 [==============================] - 15s 96us/step - loss: 0.0488 - acc: 0.9846 - val_loss: 0.4029 - val_acc: 0.8933\n",
      "Epoch 5/10\n",
      "159586/159586 [==============================] - 15s 96us/step - loss: 0.0259 - acc: 0.9917 - val_loss: 0.4798 - val_acc: 0.8937\n",
      "Epoch 6/10\n",
      "159586/159586 [==============================] - 15s 97us/step - loss: 0.0175 - acc: 0.9946 - val_loss: 0.5932 - val_acc: 0.8883\n",
      "Epoch 7/10\n",
      "159586/159586 [==============================] - 15s 96us/step - loss: 0.0197 - acc: 0.9937 - val_loss: 0.6242 - val_acc: 0.8881\n",
      "Epoch 8/10\n",
      "159586/159586 [==============================] - 15s 96us/step - loss: 0.0230 - acc: 0.9921 - val_loss: 0.6068 - val_acc: 0.8903\n",
      "Epoch 9/10\n",
      "159586/159586 [==============================] - 15s 96us/step - loss: 0.0140 - acc: 0.9955 - val_loss: 0.6930 - val_acc: 0.8903\n",
      "Epoch 10/10\n",
      "159586/159586 [==============================] - 15s 96us/step - loss: 0.0132 - acc: 0.9960 - val_loss: 0.6845 - val_acc: 0.8920\n"
     ]
    },
    {
     "data": {
      "text/plain": [
       "<keras.callbacks.History at 0x7fc78f27e5c0>"
      ]
     },
     "execution_count": 24,
     "metadata": {},
     "output_type": "execute_result"
    }
   ],
   "source": [
    "model = one_conv_model(review_length, num_words)\n",
    "tb = TensorBoard(log_dir='./logs/one_conv_model')\n",
    "model.compile(loss='binary_crossentropy', optimizer='adam', metrics=['accuracy'])\n",
    "model.fit(X_train, Y_train, validation_split=0.2, epochs=10, batch_size=256, verbose=1, callbacks=[tb])\n",
    "#model.fit(small_X, small_Y, validation_split=0.2, epochs=10, batch_size=256, verbose=1, callbacks=[tb])"
   ]
  },
  {
   "cell_type": "code",
   "execution_count": 45,
   "metadata": {},
   "outputs": [],
   "source": [
    "model.save('one_conv_model.h5')"
   ]
  },
  {
   "cell_type": "code",
   "execution_count": 43,
   "metadata": {},
   "outputs": [
    {
     "name": "stdout",
     "output_type": "stream",
     "text": [
      "Train on 159586 samples, validate on 39897 samples\n",
      "Epoch 1/2\n",
      "159586/159586 [==============================] - 20s 124us/step - loss: 0.3367 - acc: 0.8506 - val_loss: 0.2630 - val_acc: 0.8931\n",
      "Epoch 2/2\n",
      "159586/159586 [==============================] - 19s 120us/step - loss: 0.1920 - acc: 0.9264 - val_loss: 0.2519 - val_acc: 0.9015\n"
     ]
    },
    {
     "data": {
      "text/plain": [
       "<keras.callbacks.History at 0x7fc6e46d59b0>"
      ]
     },
     "execution_count": 43,
     "metadata": {},
     "output_type": "execute_result"
    }
   ],
   "source": [
    "model = two_conv_model(review_length, num_words)\n",
    "tb = TensorBoard(log_dir='./logs/two_conv_model')\n",
    "model.compile(loss='binary_crossentropy', optimizer='adam', metrics=['accuracy'])\n",
    "model.fit(X_train, Y_train, validation_split=0.2, epochs=2, batch_size=256, verbose=1, callbacks=[tb])\n",
    "#model.fit(small_X, small_Y, validation_split=0.2, epochs=10, batch_size=256, verbose=1, callbacks=[tb])"
   ]
  },
  {
   "cell_type": "code",
   "execution_count": 46,
   "metadata": {},
   "outputs": [],
   "source": [
    "model.save('two_conv_model.h5')"
   ]
  },
  {
   "cell_type": "code",
   "execution_count": 28,
   "metadata": {
    "scrolled": true
   },
   "outputs": [
    {
     "name": "stdout",
     "output_type": "stream",
     "text": [
      "Train on 159586 samples, validate on 39897 samples\n",
      "Epoch 1/10\n",
      "159586/159586 [==============================] - 24s 149us/step - loss: 0.3336 - acc: 0.8551 - val_loss: 0.2634 - val_acc: 0.8930\n",
      "Epoch 2/10\n",
      "159586/159586 [==============================] - 23s 145us/step - loss: 0.1917 - acc: 0.9261 - val_loss: 0.2782 - val_acc: 0.8935\n",
      "Epoch 3/10\n",
      "159586/159586 [==============================] - 23s 145us/step - loss: 0.1191 - acc: 0.9563 - val_loss: 0.2960 - val_acc: 0.8969\n",
      "Epoch 4/10\n",
      "159586/159586 [==============================] - 23s 145us/step - loss: 0.0718 - acc: 0.9744 - val_loss: 0.3581 - val_acc: 0.8919\n",
      "Epoch 5/10\n",
      "159586/159586 [==============================] - 23s 145us/step - loss: 0.0530 - acc: 0.9810 - val_loss: 0.4041 - val_acc: 0.8946\n",
      "Epoch 6/10\n",
      "159586/159586 [==============================] - 23s 145us/step - loss: 0.0409 - acc: 0.9857 - val_loss: 0.4542 - val_acc: 0.8912\n",
      "Epoch 7/10\n",
      "159586/159586 [==============================] - 23s 145us/step - loss: 0.0350 - acc: 0.9877 - val_loss: 0.4667 - val_acc: 0.8945\n",
      "Epoch 8/10\n",
      "159586/159586 [==============================] - 23s 145us/step - loss: 0.0297 - acc: 0.9895 - val_loss: 0.4762 - val_acc: 0.8941\n",
      "Epoch 9/10\n",
      "159586/159586 [==============================] - 23s 145us/step - loss: 0.0272 - acc: 0.9908 - val_loss: 0.5215 - val_acc: 0.8923\n",
      "Epoch 10/10\n",
      "159586/159586 [==============================] - 23s 144us/step - loss: 0.0251 - acc: 0.9914 - val_loss: 0.5166 - val_acc: 0.8946\n"
     ]
    },
    {
     "data": {
      "text/plain": [
       "<keras.callbacks.History at 0x7fc7a1c706a0>"
      ]
     },
     "execution_count": 28,
     "metadata": {},
     "output_type": "execute_result"
    }
   ],
   "source": [
    "model = two_conv_regularized_model(review_length, num_words)\n",
    "tb = TensorBoard(log_dir='./logs/two_conv_regularized_model')\n",
    "model.compile(loss='binary_crossentropy', optimizer='adam', metrics=['accuracy'])\n",
    "model.fit(X_train, Y_train, validation_split=0.2, epochs=10, batch_size=256, verbose=1, callbacks=[tb])\n",
    "#model.fit(small_X, small_Y, validation_split=0.2, epochs=10, batch_size=256, verbose=1)"
   ]
  },
  {
   "cell_type": "code",
   "execution_count": 47,
   "metadata": {},
   "outputs": [],
   "source": [
    "model.save('two_conv_regularized_model.h5')"
   ]
  },
  {
   "cell_type": "code",
   "execution_count": 30,
   "metadata": {
    "scrolled": true
   },
   "outputs": [
    {
     "name": "stdout",
     "output_type": "stream",
     "text": [
      "Train on 159586 samples, validate on 39897 samples\n",
      "Epoch 1/10\n",
      "159586/159586 [==============================] - 26s 163us/step - loss: 0.3402 - acc: 0.8516 - val_loss: 0.2778 - val_acc: 0.8862\n",
      "Epoch 2/10\n",
      "159586/159586 [==============================] - 25s 154us/step - loss: 0.1866 - acc: 0.9288 - val_loss: 0.2626 - val_acc: 0.8977\n",
      "Epoch 3/10\n",
      "159586/159586 [==============================] - 25s 154us/step - loss: 0.1074 - acc: 0.9611 - val_loss: 0.3988 - val_acc: 0.8715\n",
      "Epoch 4/10\n",
      "159586/159586 [==============================] - 25s 154us/step - loss: 0.0670 - acc: 0.9763 - val_loss: 0.3544 - val_acc: 0.8928\n",
      "Epoch 5/10\n",
      "159586/159586 [==============================] - 25s 154us/step - loss: 0.0445 - acc: 0.9844 - val_loss: 0.4103 - val_acc: 0.8950\n",
      "Epoch 6/10\n",
      "159586/159586 [==============================] - 25s 154us/step - loss: 0.0391 - acc: 0.9862 - val_loss: 0.5156 - val_acc: 0.8810\n",
      "Epoch 7/10\n",
      "159586/159586 [==============================] - 25s 154us/step - loss: 0.0355 - acc: 0.9875 - val_loss: 0.4411 - val_acc: 0.8973\n",
      "Epoch 8/10\n",
      "159586/159586 [==============================] - 25s 154us/step - loss: 0.0298 - acc: 0.9898 - val_loss: 0.5007 - val_acc: 0.8920\n",
      "Epoch 9/10\n",
      "159586/159586 [==============================] - 25s 154us/step - loss: 0.0223 - acc: 0.9925 - val_loss: 0.5215 - val_acc: 0.8930\n",
      "Epoch 10/10\n",
      "159586/159586 [==============================] - 25s 154us/step - loss: 0.0220 - acc: 0.9925 - val_loss: 0.5183 - val_acc: 0.8944\n"
     ]
    },
    {
     "data": {
      "text/plain": [
       "<keras.callbacks.History at 0x7fc72857b128>"
      ]
     },
     "execution_count": 30,
     "metadata": {},
     "output_type": "execute_result"
    }
   ],
   "source": [
    "model = two_conv_regularized_larger_kernel_model(review_length, num_words)\n",
    "tb = TensorBoard(log_dir='./logs/two_conv_regularized_larger_kernel_model')\n",
    "model.compile(loss='binary_crossentropy', optimizer='adam', metrics=['accuracy'])\n",
    "model.fit(X_train, Y_train, validation_split=0.2, epochs=10, batch_size=256, verbose=1, callbacks=[tb])\n",
    "#model.fit(small_X, small_Y, validation_split=0.2, epochs=10, batch_size=256, verbose=1)"
   ]
  },
  {
   "cell_type": "code",
   "execution_count": 48,
   "metadata": {},
   "outputs": [],
   "source": [
    "model.save('two_conv_regularized_larger_kernel_model.h5')"
   ]
  },
  {
   "cell_type": "code",
   "execution_count": 32,
   "metadata": {
    "scrolled": true
   },
   "outputs": [
    {
     "name": "stdout",
     "output_type": "stream",
     "text": [
      "_________________________________________________________________\n",
      "Layer (type)                 Output Shape              Param #   \n",
      "=================================================================\n",
      "embedding_6 (Embedding)      (None, 100, 200)          9242000   \n",
      "_________________________________________________________________\n",
      "conv1d_9 (Conv1D)            (None, 99, 50)            20050     \n",
      "_________________________________________________________________\n",
      "batch_normalization_5 (Batch (None, 99, 50)            200       \n",
      "_________________________________________________________________\n",
      "conv1d_10 (Conv1D)           (None, 98, 30)            3030      \n",
      "_________________________________________________________________\n",
      "batch_normalization_6 (Batch (None, 98, 30)            120       \n",
      "_________________________________________________________________\n",
      "conv1d_11 (Conv1D)           (None, 97, 20)            1220      \n",
      "_________________________________________________________________\n",
      "batch_normalization_7 (Batch (None, 97, 20)            80        \n",
      "_________________________________________________________________\n",
      "global_max_pooling1d_6 (Glob (None, 20)                0         \n",
      "_________________________________________________________________\n",
      "dense_11 (Dense)             (None, 256)               5376      \n",
      "_________________________________________________________________\n",
      "dense_12 (Dense)             (None, 1)                 257       \n",
      "=================================================================\n",
      "Total params: 9,272,333\n",
      "Trainable params: 9,272,133\n",
      "Non-trainable params: 200\n",
      "_________________________________________________________________\n",
      "Train on 159586 samples, validate on 39897 samples\n",
      "Epoch 1/10\n",
      "159586/159586 [==============================] - 20s 127us/step - loss: 0.3554 - acc: 0.8416 - val_loss: 0.2928 - val_acc: 0.8782\n",
      "Epoch 2/10\n",
      "159586/159586 [==============================] - 18s 112us/step - loss: 0.2256 - acc: 0.9123 - val_loss: 0.2755 - val_acc: 0.8907\n",
      "Epoch 3/10\n",
      "159586/159586 [==============================] - 18s 112us/step - loss: 0.1558 - acc: 0.9421 - val_loss: 0.2980 - val_acc: 0.8900\n",
      "Epoch 4/10\n",
      "159586/159586 [==============================] - 18s 112us/step - loss: 0.1077 - acc: 0.9608 - val_loss: 0.3252 - val_acc: 0.8913\n",
      "Epoch 5/10\n",
      "159586/159586 [==============================] - 18s 112us/step - loss: 0.0768 - acc: 0.9723 - val_loss: 0.3717 - val_acc: 0.8889\n",
      "Epoch 6/10\n",
      "159586/159586 [==============================] - 18s 113us/step - loss: 0.0568 - acc: 0.9799 - val_loss: 0.4082 - val_acc: 0.8909\n",
      "Epoch 7/10\n",
      "159586/159586 [==============================] - 18s 112us/step - loss: 0.0480 - acc: 0.9832 - val_loss: 0.4320 - val_acc: 0.8914\n",
      "Epoch 8/10\n",
      "159586/159586 [==============================] - 18s 112us/step - loss: 0.0377 - acc: 0.9863 - val_loss: 0.4719 - val_acc: 0.8880\n",
      "Epoch 9/10\n",
      "159586/159586 [==============================] - 18s 112us/step - loss: 0.0338 - acc: 0.9880 - val_loss: 0.4743 - val_acc: 0.8912\n",
      "Epoch 10/10\n",
      "159586/159586 [==============================] - 18s 112us/step - loss: 0.0285 - acc: 0.9898 - val_loss: 0.5188 - val_acc: 0.8900\n"
     ]
    },
    {
     "data": {
      "text/plain": [
       "<keras.callbacks.History at 0x7fc6f2d39780>"
      ]
     },
     "execution_count": 32,
     "metadata": {},
     "output_type": "execute_result"
    }
   ],
   "source": [
    "model = three_conv_regularized_model(review_length, num_words)\n",
    "tb = TensorBoard(log_dir='./logs/three_conv_regularized_model')\n",
    "model.compile(loss='binary_crossentropy', optimizer='adam', metrics=['accuracy'])\n",
    "model.fit(X_train, Y_train, validation_split=0.2, epochs=10, batch_size=256, verbose=1, callbacks=[tb])\n",
    "#model.fit(small_X, small_Y, validation_split=0.2, epochs=10, batch_size=256, verbose=1, callbacks=[tb])"
   ]
  },
  {
   "cell_type": "code",
   "execution_count": 49,
   "metadata": {},
   "outputs": [],
   "source": [
    "model.save('three_conv_regularized_model.h5')"
   ]
  },
  {
   "cell_type": "code",
   "execution_count": 34,
   "metadata": {
    "scrolled": true
   },
   "outputs": [
    {
     "name": "stdout",
     "output_type": "stream",
     "text": [
      "Train on 159586 samples, validate on 39897 samples\n",
      "Epoch 1/10\n",
      "159586/159586 [==============================] - 30s 191us/step - loss: 0.3396 - acc: 0.8512 - val_loss: 0.2705 - val_acc: 0.8878\n",
      "Epoch 2/10\n",
      "159586/159586 [==============================] - 29s 179us/step - loss: 0.2051 - acc: 0.9194 - val_loss: 0.3167 - val_acc: 0.8768\n",
      "Epoch 3/10\n",
      "159586/159586 [==============================] - 29s 179us/step - loss: 0.1383 - acc: 0.9481 - val_loss: 0.2936 - val_acc: 0.8944\n",
      "Epoch 4/10\n",
      "159586/159586 [==============================] - 29s 179us/step - loss: 0.0907 - acc: 0.9672 - val_loss: 0.3279 - val_acc: 0.8938\n",
      "Epoch 5/10\n",
      "159586/159586 [==============================] - 29s 179us/step - loss: 0.0676 - acc: 0.9753 - val_loss: 0.3533 - val_acc: 0.8914\n",
      "Epoch 6/10\n",
      "159586/159586 [==============================] - 29s 179us/step - loss: 0.0490 - acc: 0.9824 - val_loss: 0.3998 - val_acc: 0.8898\n",
      "Epoch 7/10\n",
      "159586/159586 [==============================] - 29s 179us/step - loss: 0.0440 - acc: 0.9842 - val_loss: 0.4402 - val_acc: 0.8927\n",
      "Epoch 8/10\n",
      "159586/159586 [==============================] - 29s 179us/step - loss: 0.0353 - acc: 0.9875 - val_loss: 0.4665 - val_acc: 0.8927\n",
      "Epoch 9/10\n",
      "159586/159586 [==============================] - 29s 179us/step - loss: 0.0327 - acc: 0.9884 - val_loss: 0.4676 - val_acc: 0.8934\n",
      "Epoch 10/10\n",
      "159586/159586 [==============================] - 29s 179us/step - loss: 0.0273 - acc: 0.9904 - val_loss: 0.5207 - val_acc: 0.8887\n"
     ]
    },
    {
     "data": {
      "text/plain": [
       "<keras.callbacks.History at 0x7fc6f2c0d5c0>"
      ]
     },
     "execution_count": 34,
     "metadata": {},
     "output_type": "execute_result"
    }
   ],
   "source": [
    "model = three_conv_more_filter_model(review_length, num_words)\n",
    "tb = TensorBoard(log_dir='./logs/three_conv_more_filter_model')\n",
    "model.compile(loss='binary_crossentropy', optimizer='adam', metrics=['accuracy'])\n",
    "model.fit(X_train, Y_train, validation_split=0.2, epochs=10, batch_size=256, verbose=1, callbacks=[tb])\n",
    "#model.fit(small_X, small_Y, validation_split=0.2, epochs=10, batch_size=256, verbose=1)"
   ]
  },
  {
   "cell_type": "code",
   "execution_count": 50,
   "metadata": {},
   "outputs": [],
   "source": [
    "model.save('three_conv_more_filter_model.h5')"
   ]
  },
  {
   "cell_type": "code",
   "execution_count": 44,
   "metadata": {
    "scrolled": true
   },
   "outputs": [
    {
     "name": "stdout",
     "output_type": "stream",
     "text": [
      "Train on 159586 samples, validate on 39897 samples\n",
      "Epoch 1/10\n",
      "159586/159586 [==============================] - 33s 205us/step - loss: 0.3465 - acc: 0.8471 - val_loss: 0.2675 - val_acc: 0.8890\n",
      "Epoch 2/10\n",
      "159586/159586 [==============================] - 32s 198us/step - loss: 0.2036 - acc: 0.9211 - val_loss: 0.2792 - val_acc: 0.8907\n",
      "Epoch 3/10\n",
      "159586/159586 [==============================] - 32s 198us/step - loss: 0.1263 - acc: 0.9532 - val_loss: 0.2903 - val_acc: 0.8964\n",
      "Epoch 4/10\n",
      "159586/159586 [==============================] - 32s 198us/step - loss: 0.0844 - acc: 0.9695 - val_loss: 0.3360 - val_acc: 0.8939\n",
      "Epoch 5/10\n",
      "159586/159586 [==============================] - 32s 198us/step - loss: 0.0591 - acc: 0.9786 - val_loss: 0.3667 - val_acc: 0.8957\n",
      "Epoch 6/10\n",
      "159586/159586 [==============================] - 32s 198us/step - loss: 0.0436 - acc: 0.9850 - val_loss: 0.4240 - val_acc: 0.8922\n",
      "Epoch 7/10\n",
      "159586/159586 [==============================] - 32s 198us/step - loss: 0.0379 - acc: 0.9866 - val_loss: 0.4411 - val_acc: 0.8938\n",
      "Epoch 8/10\n",
      "159586/159586 [==============================] - 32s 198us/step - loss: 0.0331 - acc: 0.9886 - val_loss: 0.4420 - val_acc: 0.8970\n",
      "Epoch 9/10\n",
      " 16128/159586 [==>...........................] - ETA: 26s - loss: 0.0180 - acc: 0.9936"
     ]
    },
    {
     "ename": "KeyboardInterrupt",
     "evalue": "",
     "output_type": "error",
     "traceback": [
      "\u001b[0;31m---------------------------------------------------------------------------\u001b[0m",
      "\u001b[0;31mKeyboardInterrupt\u001b[0m                         Traceback (most recent call last)",
      "\u001b[0;32m<ipython-input-44-ced64ccba087>\u001b[0m in \u001b[0;36m<module>\u001b[0;34m()\u001b[0m\n\u001b[1;32m      2\u001b[0m \u001b[0mtb\u001b[0m \u001b[0;34m=\u001b[0m \u001b[0mTensorBoard\u001b[0m\u001b[0;34m(\u001b[0m\u001b[0mlog_dir\u001b[0m\u001b[0;34m=\u001b[0m\u001b[0;34m'./logs/three_conv_larger_kernel_model'\u001b[0m\u001b[0;34m)\u001b[0m\u001b[0;34m\u001b[0m\u001b[0m\n\u001b[1;32m      3\u001b[0m \u001b[0mmodel\u001b[0m\u001b[0;34m.\u001b[0m\u001b[0mcompile\u001b[0m\u001b[0;34m(\u001b[0m\u001b[0mloss\u001b[0m\u001b[0;34m=\u001b[0m\u001b[0;34m'binary_crossentropy'\u001b[0m\u001b[0;34m,\u001b[0m \u001b[0moptimizer\u001b[0m\u001b[0;34m=\u001b[0m\u001b[0;34m'adam'\u001b[0m\u001b[0;34m,\u001b[0m \u001b[0mmetrics\u001b[0m\u001b[0;34m=\u001b[0m\u001b[0;34m[\u001b[0m\u001b[0;34m'accuracy'\u001b[0m\u001b[0;34m]\u001b[0m\u001b[0;34m)\u001b[0m\u001b[0;34m\u001b[0m\u001b[0m\n\u001b[0;32m----> 4\u001b[0;31m \u001b[0mmodel\u001b[0m\u001b[0;34m.\u001b[0m\u001b[0mfit\u001b[0m\u001b[0;34m(\u001b[0m\u001b[0mX_train\u001b[0m\u001b[0;34m,\u001b[0m \u001b[0mY_train\u001b[0m\u001b[0;34m,\u001b[0m \u001b[0mvalidation_split\u001b[0m\u001b[0;34m=\u001b[0m\u001b[0;36m0.2\u001b[0m\u001b[0;34m,\u001b[0m \u001b[0mepochs\u001b[0m\u001b[0;34m=\u001b[0m\u001b[0;36m10\u001b[0m\u001b[0;34m,\u001b[0m \u001b[0mbatch_size\u001b[0m\u001b[0;34m=\u001b[0m\u001b[0;36m256\u001b[0m\u001b[0;34m,\u001b[0m \u001b[0mverbose\u001b[0m\u001b[0;34m=\u001b[0m\u001b[0;36m1\u001b[0m\u001b[0;34m,\u001b[0m \u001b[0mcallbacks\u001b[0m\u001b[0;34m=\u001b[0m\u001b[0;34m[\u001b[0m\u001b[0mtb\u001b[0m\u001b[0;34m]\u001b[0m\u001b[0;34m)\u001b[0m\u001b[0;34m\u001b[0m\u001b[0m\n\u001b[0m\u001b[1;32m      5\u001b[0m \u001b[0;31m#model.fit(small_X, small_Y, validation_split=0.2, epochs=10, batch_size=256, verbose=1)\u001b[0m\u001b[0;34m\u001b[0m\u001b[0;34m\u001b[0m\u001b[0m\n",
      "\u001b[0;32m~/anaconda3/envs/dml_gpu/lib/python3.6/site-packages/keras/engine/training.py\u001b[0m in \u001b[0;36mfit\u001b[0;34m(self, x, y, batch_size, epochs, verbose, callbacks, validation_split, validation_data, shuffle, class_weight, sample_weight, initial_epoch, steps_per_epoch, validation_steps, **kwargs)\u001b[0m\n\u001b[1;32m   1035\u001b[0m                                         \u001b[0minitial_epoch\u001b[0m\u001b[0;34m=\u001b[0m\u001b[0minitial_epoch\u001b[0m\u001b[0;34m,\u001b[0m\u001b[0;34m\u001b[0m\u001b[0m\n\u001b[1;32m   1036\u001b[0m                                         \u001b[0msteps_per_epoch\u001b[0m\u001b[0;34m=\u001b[0m\u001b[0msteps_per_epoch\u001b[0m\u001b[0;34m,\u001b[0m\u001b[0;34m\u001b[0m\u001b[0m\n\u001b[0;32m-> 1037\u001b[0;31m                                         validation_steps=validation_steps)\n\u001b[0m\u001b[1;32m   1038\u001b[0m \u001b[0;34m\u001b[0m\u001b[0m\n\u001b[1;32m   1039\u001b[0m     def evaluate(self, x=None, y=None,\n",
      "\u001b[0;32m~/anaconda3/envs/dml_gpu/lib/python3.6/site-packages/keras/engine/training_arrays.py\u001b[0m in \u001b[0;36mfit_loop\u001b[0;34m(model, f, ins, out_labels, batch_size, epochs, verbose, callbacks, val_f, val_ins, shuffle, callback_metrics, initial_epoch, steps_per_epoch, validation_steps)\u001b[0m\n\u001b[1;32m    197\u001b[0m                     \u001b[0mins_batch\u001b[0m\u001b[0;34m[\u001b[0m\u001b[0mi\u001b[0m\u001b[0;34m]\u001b[0m \u001b[0;34m=\u001b[0m \u001b[0mins_batch\u001b[0m\u001b[0;34m[\u001b[0m\u001b[0mi\u001b[0m\u001b[0;34m]\u001b[0m\u001b[0;34m.\u001b[0m\u001b[0mtoarray\u001b[0m\u001b[0;34m(\u001b[0m\u001b[0;34m)\u001b[0m\u001b[0;34m\u001b[0m\u001b[0m\n\u001b[1;32m    198\u001b[0m \u001b[0;34m\u001b[0m\u001b[0m\n\u001b[0;32m--> 199\u001b[0;31m                 \u001b[0mouts\u001b[0m \u001b[0;34m=\u001b[0m \u001b[0mf\u001b[0m\u001b[0;34m(\u001b[0m\u001b[0mins_batch\u001b[0m\u001b[0;34m)\u001b[0m\u001b[0;34m\u001b[0m\u001b[0m\n\u001b[0m\u001b[1;32m    200\u001b[0m                 \u001b[0mouts\u001b[0m \u001b[0;34m=\u001b[0m \u001b[0mto_list\u001b[0m\u001b[0;34m(\u001b[0m\u001b[0mouts\u001b[0m\u001b[0;34m)\u001b[0m\u001b[0;34m\u001b[0m\u001b[0m\n\u001b[1;32m    201\u001b[0m                 \u001b[0;32mfor\u001b[0m \u001b[0ml\u001b[0m\u001b[0;34m,\u001b[0m \u001b[0mo\u001b[0m \u001b[0;32min\u001b[0m \u001b[0mzip\u001b[0m\u001b[0;34m(\u001b[0m\u001b[0mout_labels\u001b[0m\u001b[0;34m,\u001b[0m \u001b[0mouts\u001b[0m\u001b[0;34m)\u001b[0m\u001b[0;34m:\u001b[0m\u001b[0;34m\u001b[0m\u001b[0m\n",
      "\u001b[0;32m~/anaconda3/envs/dml_gpu/lib/python3.6/site-packages/keras/backend/tensorflow_backend.py\u001b[0m in \u001b[0;36m__call__\u001b[0;34m(self, inputs)\u001b[0m\n\u001b[1;32m   2664\u001b[0m                 \u001b[0;32mreturn\u001b[0m \u001b[0mself\u001b[0m\u001b[0;34m.\u001b[0m\u001b[0m_legacy_call\u001b[0m\u001b[0;34m(\u001b[0m\u001b[0minputs\u001b[0m\u001b[0;34m)\u001b[0m\u001b[0;34m\u001b[0m\u001b[0m\n\u001b[1;32m   2665\u001b[0m \u001b[0;34m\u001b[0m\u001b[0m\n\u001b[0;32m-> 2666\u001b[0;31m             \u001b[0;32mreturn\u001b[0m \u001b[0mself\u001b[0m\u001b[0;34m.\u001b[0m\u001b[0m_call\u001b[0m\u001b[0;34m(\u001b[0m\u001b[0minputs\u001b[0m\u001b[0;34m)\u001b[0m\u001b[0;34m\u001b[0m\u001b[0m\n\u001b[0m\u001b[1;32m   2667\u001b[0m         \u001b[0;32melse\u001b[0m\u001b[0;34m:\u001b[0m\u001b[0;34m\u001b[0m\u001b[0m\n\u001b[1;32m   2668\u001b[0m             \u001b[0;32mif\u001b[0m \u001b[0mpy_any\u001b[0m\u001b[0;34m(\u001b[0m\u001b[0mis_tensor\u001b[0m\u001b[0;34m(\u001b[0m\u001b[0mx\u001b[0m\u001b[0;34m)\u001b[0m \u001b[0;32mfor\u001b[0m \u001b[0mx\u001b[0m \u001b[0;32min\u001b[0m \u001b[0minputs\u001b[0m\u001b[0;34m)\u001b[0m\u001b[0;34m:\u001b[0m\u001b[0;34m\u001b[0m\u001b[0m\n",
      "\u001b[0;32m~/anaconda3/envs/dml_gpu/lib/python3.6/site-packages/keras/backend/tensorflow_backend.py\u001b[0m in \u001b[0;36m_call\u001b[0;34m(self, inputs)\u001b[0m\n\u001b[1;32m   2634\u001b[0m                                 \u001b[0msymbol_vals\u001b[0m\u001b[0;34m,\u001b[0m\u001b[0;34m\u001b[0m\u001b[0m\n\u001b[1;32m   2635\u001b[0m                                 session)\n\u001b[0;32m-> 2636\u001b[0;31m         \u001b[0mfetched\u001b[0m \u001b[0;34m=\u001b[0m \u001b[0mself\u001b[0m\u001b[0;34m.\u001b[0m\u001b[0m_callable_fn\u001b[0m\u001b[0;34m(\u001b[0m\u001b[0;34m*\u001b[0m\u001b[0marray_vals\u001b[0m\u001b[0;34m)\u001b[0m\u001b[0;34m\u001b[0m\u001b[0m\n\u001b[0m\u001b[1;32m   2637\u001b[0m         \u001b[0;32mreturn\u001b[0m \u001b[0mfetched\u001b[0m\u001b[0;34m[\u001b[0m\u001b[0;34m:\u001b[0m\u001b[0mlen\u001b[0m\u001b[0;34m(\u001b[0m\u001b[0mself\u001b[0m\u001b[0;34m.\u001b[0m\u001b[0moutputs\u001b[0m\u001b[0;34m)\u001b[0m\u001b[0;34m]\u001b[0m\u001b[0;34m\u001b[0m\u001b[0m\n\u001b[1;32m   2638\u001b[0m \u001b[0;34m\u001b[0m\u001b[0m\n",
      "\u001b[0;32m~/anaconda3/envs/dml_gpu/lib/python3.6/site-packages/tensorflow/python/client/session.py\u001b[0m in \u001b[0;36m__call__\u001b[0;34m(self, *args, **kwargs)\u001b[0m\n\u001b[1;32m   1380\u001b[0m           ret = tf_session.TF_SessionRunCallable(\n\u001b[1;32m   1381\u001b[0m               \u001b[0mself\u001b[0m\u001b[0;34m.\u001b[0m\u001b[0m_session\u001b[0m\u001b[0;34m.\u001b[0m\u001b[0m_session\u001b[0m\u001b[0;34m,\u001b[0m \u001b[0mself\u001b[0m\u001b[0;34m.\u001b[0m\u001b[0m_handle\u001b[0m\u001b[0;34m,\u001b[0m \u001b[0margs\u001b[0m\u001b[0;34m,\u001b[0m \u001b[0mstatus\u001b[0m\u001b[0;34m,\u001b[0m\u001b[0;34m\u001b[0m\u001b[0m\n\u001b[0;32m-> 1382\u001b[0;31m               run_metadata_ptr)\n\u001b[0m\u001b[1;32m   1383\u001b[0m         \u001b[0;32mif\u001b[0m \u001b[0mrun_metadata\u001b[0m\u001b[0;34m:\u001b[0m\u001b[0;34m\u001b[0m\u001b[0m\n\u001b[1;32m   1384\u001b[0m           \u001b[0mproto_data\u001b[0m \u001b[0;34m=\u001b[0m \u001b[0mtf_session\u001b[0m\u001b[0;34m.\u001b[0m\u001b[0mTF_GetBuffer\u001b[0m\u001b[0;34m(\u001b[0m\u001b[0mrun_metadata_ptr\u001b[0m\u001b[0;34m)\u001b[0m\u001b[0;34m\u001b[0m\u001b[0m\n",
      "\u001b[0;31mKeyboardInterrupt\u001b[0m: "
     ]
    }
   ],
   "source": [
    "model = three_conv_larger_kernel_model(review_length, num_words)\n",
    "tb = TensorBoard(log_dir='./logs/three_conv_larger_kernel_model')\n",
    "model.compile(loss='binary_crossentropy', optimizer='adam', metrics=['accuracy'])\n",
    "model.fit(X_train, Y_train, validation_split=0.2, epochs=10, batch_size=256, verbose=1, callbacks=[tb])\n",
    "#model.fit(small_X, small_Y, validation_split=0.2, epochs=10, batch_size=256, verbose=1)"
   ]
  },
  {
   "cell_type": "code",
   "execution_count": 51,
   "metadata": {},
   "outputs": [],
   "source": [
    "model.save('three_conv_larger_kernel_model.h5')"
   ]
  },
  {
   "cell_type": "code",
   "execution_count": 38,
   "metadata": {
    "scrolled": true
   },
   "outputs": [
    {
     "name": "stdout",
     "output_type": "stream",
     "text": [
      "Train on 159586 samples, validate on 39897 samples\n",
      "Epoch 1/10\n",
      "159586/159586 [==============================] - 17s 105us/step - loss: 0.3486 - acc: 0.8453 - val_loss: 0.2852 - val_acc: 0.8809\n",
      "Epoch 2/10\n",
      "159586/159586 [==============================] - 16s 103us/step - loss: 0.1279 - acc: 0.9533 - val_loss: 0.3617 - val_acc: 0.8733\n",
      "Epoch 3/10\n",
      "159586/159586 [==============================] - 16s 102us/step - loss: 0.0319 - acc: 0.9898 - val_loss: 0.5536 - val_acc: 0.8721\n",
      "Epoch 4/10\n",
      "159586/159586 [==============================] - 16s 103us/step - loss: 0.0103 - acc: 0.9969 - val_loss: 0.7078 - val_acc: 0.8749\n",
      "Epoch 5/10\n",
      "159586/159586 [==============================] - 16s 102us/step - loss: 0.0080 - acc: 0.9974 - val_loss: 0.8330 - val_acc: 0.8701\n",
      "Epoch 6/10\n",
      "159586/159586 [==============================] - 16s 102us/step - loss: 0.0242 - acc: 0.9917 - val_loss: 0.7343 - val_acc: 0.8716\n",
      "Epoch 7/10\n",
      "159586/159586 [==============================] - 16s 103us/step - loss: 0.0097 - acc: 0.9968 - val_loss: 0.8095 - val_acc: 0.8710\n",
      "Epoch 8/10\n",
      "159586/159586 [==============================] - 16s 103us/step - loss: 0.0035 - acc: 0.9990 - val_loss: 0.9035 - val_acc: 0.8710\n",
      "Epoch 9/10\n",
      "159586/159586 [==============================] - 16s 103us/step - loss: 0.0034 - acc: 0.9990 - val_loss: 1.0112 - val_acc: 0.8680\n",
      "Epoch 10/10\n",
      "159586/159586 [==============================] - 16s 102us/step - loss: 0.0124 - acc: 0.9958 - val_loss: 0.8952 - val_acc: 0.8697\n"
     ]
    },
    {
     "data": {
      "text/plain": [
       "<keras.callbacks.History at 0x7fc6e5b41f60>"
      ]
     },
     "execution_count": 38,
     "metadata": {},
     "output_type": "execute_result"
    }
   ],
   "source": [
    "model = vanilla_nn(review_length, num_words)\n",
    "tb = TensorBoard(log_dir='./logs/vanilla_nn_model')\n",
    "model.compile(loss='binary_crossentropy', optimizer='adam', metrics=['accuracy'])\n",
    "model.fit(X_train, Y_train, validation_split=0.2, epochs=10, batch_size=256, verbose=1, callbacks=[tb])\n",
    "#model.fit(small_X, small_Y, validation_split=0.2, epochs=10, batch_size=256, verbose=1, callbacks=[tb])"
   ]
  },
  {
   "cell_type": "code",
   "execution_count": 52,
   "metadata": {},
   "outputs": [],
   "source": [
    "model.save('vanilla_nn.h5')"
   ]
  },
  {
   "cell_type": "markdown",
   "metadata": {},
   "source": [
    "### Predict"
   ]
  },
  {
   "cell_type": "code",
   "execution_count": null,
   "metadata": {},
   "outputs": [],
   "source": [
    "model.save('two_conv_regularized_larger_kernel_model.h5')"
   ]
  },
  {
   "cell_type": "code",
   "execution_count": 5,
   "metadata": {},
   "outputs": [],
   "source": [
    "model = load_model('two_conv_regularized_larger_kernel_model.h5')"
   ]
  },
  {
   "cell_type": "code",
   "execution_count": 6,
   "metadata": {
    "scrolled": true
   },
   "outputs": [
    {
     "name": "stdout",
     "output_type": "stream",
     "text": [
      "_________________________________________________________________\n",
      "Layer (type)                 Output Shape              Param #   \n",
      "=================================================================\n",
      "embedding_23 (Embedding)     (None, 100, 200)          9242000   \n",
      "_________________________________________________________________\n",
      "conv1d_43 (Conv1D)           (None, 99, 100)           40100     \n",
      "_________________________________________________________________\n",
      "batch_normalization_25 (Batc (None, 99, 100)           400       \n",
      "_________________________________________________________________\n",
      "conv1d_44 (Conv1D)           (None, 96, 100)           40100     \n",
      "_________________________________________________________________\n",
      "batch_normalization_26 (Batc (None, 96, 100)           400       \n",
      "_________________________________________________________________\n",
      "global_max_pooling1d_19 (Glo (None, 100)               0         \n",
      "_________________________________________________________________\n",
      "dense_31 (Dense)             (None, 256)               25856     \n",
      "_________________________________________________________________\n",
      "dense_32 (Dense)             (None, 1)                 257       \n",
      "=================================================================\n",
      "Total params: 9,349,113\n",
      "Trainable params: 9,348,713\n",
      "Non-trainable params: 400\n",
      "_________________________________________________________________\n",
      "None\n"
     ]
    }
   ],
   "source": [
    "print(model.summary())\n",
    "preds = np.round(model.predict(X_test)).T\n",
    "preds = preds[0]"
   ]
  },
  {
   "cell_type": "markdown",
   "metadata": {},
   "source": [
    "### Investigate misclassifications"
   ]
  },
  {
   "cell_type": "code",
   "execution_count": 57,
   "metadata": {},
   "outputs": [
    {
     "name": "stdout",
     "output_type": "stream",
     "text": [
      "Out of 49871 test reviews, 4902 were misclassified.\n",
      "A few examples of the misclassified reviews:\n",
      "1. Predicted output: 0.0 Actual label: 1 Score: 4\n",
      "this is good flavorful coffee but just not quite the right blend for me there are others i like more so will not be ordering it again good price from amazon though\n",
      " \n",
      "1. Predicted output: 0.0 Actual label: 1 Score: 5\n",
      "both my puppy puggle and 2 year old shitzu these treats it did in fact assist me in training the puggle but now that she is getting older and doing well i am starting to use this as a treat delivery was also fast so i was happy about that because it came at a perfect time\n",
      " \n",
      "1. Predicted output: 1.0 Actual label: 0 Score: 3\n",
      "it gives your water a mild flavor the small packaging is very good handy to carry with you or keep in your desk this was fun to try but i prefer my water straight\n",
      " \n",
      "1. Predicted output: 1.0 Actual label: 0 Score: 3\n",
      "the instructions on how to prepare this box of macaroni and cheese are basically the same as the regular kraft mac and cheese so it's very easy and of course it's great that vegetables are included in the pasta making it a bit more healthy than the regular the texture of the noodles was slightly mushier so i'd recommend undercooking them a bit if you want them to be more like the regular noodles i also thought the sauce seemed more bland not sure why that was since i only rarely each box macaroni and cheese and since i did\n",
      " \n",
      "1. Predicted output: 0.0 Actual label: 1 Score: 5\n",
      "this baby food processor is the best baby item i own it is really important to me to make my own baby food but the thought of chopping boiling steaming processing the veggies fruits and then washing all these items is just another annoying item to add to the list of to do's during the day the baby brezza makes all that so simple and easy that i don't mind taking this extra step to give my baby the best nutrients and save money all you need to do is chop the food stick it in the machine and wait\n",
      " \n",
      "1. Predicted output: 1.0 Actual label: 0 Score: 3\n",
      "grew up in new england had lots of maple sugar candy that being said not very sweet and with a subtle maple flavor\n",
      " \n",
      "1. Predicted output: 0.0 Actual label: 1 Score: 4\n",
      "higgins burke's earl gray tea is mild but soothing i've noticed that this company produces very subtle mild tasting teas and i've sampled their green tea which also has a light clean taste this earl gray is a little bland certainly not as strong as the mighty leaf or tazo and it's easy to assume that the tea must not be very strong was i wrong i drank two cups just before bedtime and stayed awake almost all night i usually have a cup of lipton black tea before bed and the caffeine content in it must be very low\n",
      " \n"
     ]
    }
   ],
   "source": [
    "misclassifications = np.where(preds!=Y_test)\n",
    "misclassifications = misclassifications[0]\n",
    "print('Out of {} test reviews, {} were misclassified.'.format(len(Y_test), len(misclassifications)))\n",
    "print('A few examples of the misclassified reviews:')\n",
    "\n",
    "def print_sentence(index):\n",
    "    sentence_ix = misclassifications[index]\n",
    "    tmp = []\n",
    "    for val in X_test[sentence_ix]:\n",
    "        if ix_to_word[str(val)] == 'ZERO':\n",
    "            break\n",
    "        tmp.append(ix_to_word[str(val)])\n",
    "    processed_sentence = ' '.join(tmp)\n",
    "    print(processed_sentence)\n",
    "    \n",
    "def print_misclassification(index):\n",
    "    print('1. Predicted output: {} Actual label: {} Score: {}'.format(preds[misclassifications[index]], Y_test[misclassifications[index]], scores_test[misclassifications[index]]))\n",
    "    print_sentence(index)\n",
    "    print(' ')\n",
    "  \n",
    "print_misclassification(0)\n",
    "print_misclassification(10)\n",
    "print_misclassification(20)\n",
    "print_misclassification(30)\n",
    "print_misclassification(40)\n",
    "print_misclassification(50)\n",
    "print_misclassification(60)\n",
    "#print('1. Predicted output: {} Actual label: {} Score: {}'.format(preds[misclassifications[0]], Y_test[misclassifications[0]], scores_test[misclassifications[0]]))\n",
    "#print_sentence(0)\n",
    "#print('2. Predicted output: {} Actual label: {} Score: {}'.format(preds[misclassifications[1]], Y_test[misclassifications[1]], scores_test[misclassifications[1]]))\n",
    "#print_sentence(1)\n",
    "#print('3. Predicted output: {} Actual label: {} Score: {}'.format(preds[misclassifications[2]], Y_test[misclassifications[2]], scores_test[misclassifications[2]]))\n",
    "#print_sentence(2)"
   ]
  },
  {
   "cell_type": "code",
   "execution_count": 47,
   "metadata": {},
   "outputs": [
    {
     "data": {
      "image/png": "[encoded data removed]",
      "text/plain": [
       "<matplotlib.figure.Figure at 0x13c865588>"
      ]
     },
     "metadata": {},
     "output_type": "display_data"
    },
    {
     "data": {
      "image/png": "[encoded data removed]",
      "text/plain": [
       "<matplotlib.figure.Figure at 0x13c97fb70>"
      ]
     },
     "metadata": {},
     "output_type": "display_data"
    },
    {
     "data": {
      "image/png": "[encoded data removed]",
      "text/plain": [
       "<matplotlib.figure.Figure at 0x133c25a90>"
      ]
     },
     "metadata": {},
     "output_type": "display_data"
    }
   ],
   "source": [
    "###### SCORE DISTRIBUTION ######\n",
    "plt.hist(scores_test, bins=[1,2,3,4,5,6], normed=True)\n",
    "plt.title('Total score distribution of test set')\n",
    "plt.ylabel('Frequency')\n",
    "plt.xlabel('Score')\n",
    "plt.xticks([1.5,2.5,3.5,4.5,5.5],[1,2,3,4,5])\n",
    "plt.show()\n",
    "#print('Total number of data points: %d' %len(Y_even))\n",
    "\n",
    "plt.hist(scores_test[misclassifications], bins=[1,2,3,4,5,6], normed=True)\n",
    "plt.title('Score distribution of misclassifications')\n",
    "plt.ylabel('Frequency')\n",
    "plt.xlabel('Score')\n",
    "#plt.Axes.set_xticks(ticks=[1.5,2.5,3.5,4.5,5.5])\n",
    "plt.xticks([1.5,2.5,3.5,4.5,5.5],[1,2,3,4,5])\n",
    "plt.show()\n",
    "#print('Number of training data points: %d' %len(Y_train_even))\n",
    "\n",
    "num_scores = [sum(scores_test == 1), sum(scores_test == 2), sum(scores_test == 3), sum(scores_test == 4), sum(scores_test == 5)]\n",
    "num_scores_misclassifications = [sum(scores_test[misclassifications] == 1), sum(scores_test[misclassifications] == 2), sum(scores_test[misclassifications] == 3), sum(scores_test[misclassifications] == 4), sum(scores_test[misclassifications] == 5)]\n",
    "\n",
    "scaled_scores_mis = [num_scores_misclassifications[i]/num_scores[i] for i in range(5)]\n",
    "scaled_scores_mis = np.round([x*1000 for x in scaled_scores_mis])\n",
    "scaled_scores_mis_data = [1] * int(scaled_scores_mis[0]) + [2] * int(scaled_scores_mis[1]) + [3] * int(scaled_scores_mis[2]) + [4] * int(scaled_scores_mis[3]) + [5] * int(scaled_scores_mis[4])\n",
    "\n",
    "plt.hist(scaled_scores_mis_data, bins=[1,2,3,4,5,6], normed=True)\n",
    "plt.title('Score distribution of misclassifications')\n",
    "plt.ylabel('Frequency')\n",
    "plt.xlabel('Score')\n",
    "#plt.Axes.set_xticks(ticks=[1.5,2.5,3.5,4.5,5.5])\n",
    "plt.xticks([1.5,2.5,3.5,4.5,5.5],[1,2,3,4,5])\n",
    "plt.show()\n",
    "#print('Number of training data points: %d' %len(Y_train_even))"
   ]
  },
  {
   "cell_type": "code",
   "execution_count": null,
   "metadata": {},
   "outputs": [],
   "source": []
  }
 ],
 "metadata": {
  "kernelspec": {
   "display_name": "Python 3",
   "language": "python",
   "name": "python3"
  },
  "language_info": {
   "codemirror_mode": {
    "name": "ipython",
    "version": 3
   },
   "file_extension": ".py",
   "mimetype": "text/x-python",
   "name": "python",
   "nbconvert_exporter": "python",
   "pygments_lexer": "ipython3",
   "version": "3.6.6"
  }
 },
 "nbformat": 4,
 "nbformat_minor": 2
}
